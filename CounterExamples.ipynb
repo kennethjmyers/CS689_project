{
 "cells": [
  {
   "cell_type": "code",
   "execution_count": 1,
   "metadata": {},
   "outputs": [],
   "source": [
    "# https://github.com/kuk/log-progress\n",
    "def log_progress(sequence, every=None, size=None, name='Items'):\n",
    "    from ipywidgets import IntProgress, HTML, VBox\n",
    "    from IPython.display import display\n",
    "\n",
    "    is_iterator = False\n",
    "    if size is None:\n",
    "        try:\n",
    "            size = len(sequence)\n",
    "        except TypeError:\n",
    "            is_iterator = True\n",
    "    if size is not None:\n",
    "        if every is None:\n",
    "            if size <= 200:\n",
    "                every = 1\n",
    "            else:\n",
    "                every = int(size / 200)     # every 0.5%\n",
    "    else:\n",
    "        assert every is not None, 'sequence is iterator, set every'\n",
    "\n",
    "    if is_iterator:\n",
    "        progress = IntProgress(min=0, max=1, value=1)\n",
    "        progress.bar_style = 'info'\n",
    "    else:\n",
    "        progress = IntProgress(min=0, max=size, value=0)\n",
    "    label = HTML()\n",
    "    box = VBox(children=[label, progress])\n",
    "    display(box)\n",
    "\n",
    "    index = 0\n",
    "    try:\n",
    "        for index, record in enumerate(sequence, 1):\n",
    "            if index == 1 or index % every == 0:\n",
    "                if is_iterator:\n",
    "                    label.value = '{name}: {index} / ?'.format(\n",
    "                        name=name,\n",
    "                        index=index\n",
    "                    )\n",
    "                else:\n",
    "                    progress.value = index\n",
    "                    label.value = u'{name}: {index} / {size}'.format(\n",
    "                        name=name,\n",
    "                        index=index,\n",
    "                        size=size\n",
    "                    )\n",
    "            yield record\n",
    "    except:\n",
    "        progress.bar_style = 'danger'\n",
    "        raise\n",
    "    else:\n",
    "        progress.bar_style = 'success'\n",
    "        progress.value = index\n",
    "        label.value = \"{name}: {index}\".format(\n",
    "            name=name,\n",
    "            index=str(index or '?')\n",
    "        )"
   ]
  },
  {
   "cell_type": "code",
   "execution_count": 2,
   "metadata": {},
   "outputs": [],
   "source": [
    "import re\n",
    "import os\n",
    "\n",
    "import pandas as pd\n",
    "import numpy as np\n",
    "import pickle\n",
    "from z3 import *\n",
    "\n",
    "from sklearn.ensemble import GradientBoostingRegressor\n",
    "from sklearn.model_selection import train_test_split\n",
    "from sklearn.metrics import r2_score\n",
    "from sklearn.preprocessing import StandardScaler\n",
    "\n",
    "from VeriGB import get_gamma_R\n",
    "\n",
    "pd.set_option('display.max_columns', 500)\n",
    "\n",
    "np.random.seed(0)"
   ]
  },
  {
   "cell_type": "code",
   "execution_count": 3,
   "metadata": {},
   "outputs": [],
   "source": [
    "housing_data = pd.read_csv('./Data/kc_house_data.csv')\n",
    "\n",
    "sqft_cols = [i for i in housing_data.columns if 'sqft' in i]\n",
    "D = len(sqft_cols)\n",
    "\n",
    "X = housing_data[sqft_cols]\n",
    "y = housing_data['price']\n",
    "\n",
    "X_train, X_test, y_train, y_test = train_test_split(X, y, test_size=0.2, random_state=0)\n",
    "\n",
    "X_train = np.array(X_train)\n",
    "X_test = np.array(X_test)\n",
    "y_train = np.array(y_train)\n",
    "y_test = np.array(y_test)\n",
    "\n",
    "# In this experiment, we use unscaled data.\n",
    "# ss = StandardScaler()\n",
    "# X_train = ss.fit_transform(X_train)\n",
    "# X_test = ss.transform(X_test)"
   ]
  },
  {
   "cell_type": "code",
   "execution_count": 4,
   "metadata": {},
   "outputs": [],
   "source": [
    "# Z3 timeout (10mn)\n",
    "set_option(timeout = 1000 * 60 * 10)"
   ]
  },
  {
   "cell_type": "code",
   "execution_count": null,
   "metadata": {},
   "outputs": [
    {
     "name": "stdout",
     "output_type": "stream",
     "text": [
      "Testing for estimators=50, max_depth=3\n"
     ]
    },
    {
     "data": {
      "application/vnd.jupyter.widget-view+json": {
       "model_id": "b1a014e9856d484198bd16e83f1a145b",
       "version_major": 2,
       "version_minor": 0
      },
      "text/plain": [
       "VBox(children=(HTML(value=''), IntProgress(value=0, max=1000)))"
      ]
     },
     "metadata": {},
     "output_type": "display_data"
    },
    {
     "name": "stdout",
     "output_type": "stream",
     "text": [
      "0.6056243087302053 0.594622156696951 0.594755193184815\n",
      "Testing for estimators=100, max_depth=3\n"
     ]
    },
    {
     "data": {
      "application/vnd.jupyter.widget-view+json": {
       "model_id": "63e1d17fb72a426fbe26ef04e39efdcc",
       "version_major": 2,
       "version_minor": 0
      },
      "text/plain": [
       "VBox(children=(HTML(value=''), IntProgress(value=0, max=1000)))"
      ]
     },
     "metadata": {},
     "output_type": "display_data"
    },
    {
     "name": "stdout",
     "output_type": "stream",
     "text": [
      "0.610915414792733 0.6073784986286519 0.6096731516194014\n",
      "Testing for estimators=200, max_depth=3\n"
     ]
    },
    {
     "data": {
      "application/vnd.jupyter.widget-view+json": {
       "model_id": "94ad0dd7f5a34502814436323b591ba1",
       "version_major": 2,
       "version_minor": 0
      },
      "text/plain": [
       "VBox(children=(HTML(value=''), IntProgress(value=0, max=1000)))"
      ]
     },
     "metadata": {},
     "output_type": "display_data"
    },
    {
     "name": "stdout",
     "output_type": "stream",
     "text": [
      "0.6115858706854267 0.5859496186364428 0.5859081282461414\n",
      "Testing for estimators=300, max_depth=3\n"
     ]
    },
    {
     "data": {
      "application/vnd.jupyter.widget-view+json": {
       "model_id": "3f832d24f2d1465b9ca395ef6812fb40",
       "version_major": 2,
       "version_minor": 0
      },
      "text/plain": [
       "VBox(children=(HTML(value=''), IntProgress(value=0, max=1000)))"
      ]
     },
     "metadata": {},
     "output_type": "display_data"
    },
    {
     "name": "stdout",
     "output_type": "stream",
     "text": [
      "0.605642592843124 0.5931814489169968 0.5919009991911225\n",
      "Testing for estimators=400, max_depth=3\n"
     ]
    },
    {
     "data": {
      "application/vnd.jupyter.widget-view+json": {
       "model_id": "de342404b0874e49bb3dbc19311b92b6",
       "version_major": 2,
       "version_minor": 0
      },
      "text/plain": [
       "VBox(children=(HTML(value=''), IntProgress(value=0, max=1000)))"
      ]
     },
     "metadata": {},
     "output_type": "display_data"
    },
    {
     "name": "stdout",
     "output_type": "stream",
     "text": [
      "0.6054302452216702 0.6099067647985303 0.607263089018941\n",
      "Testing for estimators=500, max_depth=3\n"
     ]
    },
    {
     "data": {
      "application/vnd.jupyter.widget-view+json": {
       "model_id": "8c7361958a5d4d12b88598c3b6cdb604",
       "version_major": 2,
       "version_minor": 0
      },
      "text/plain": [
       "VBox(children=(HTML(value=''), IntProgress(value=0, max=1000)))"
      ]
     },
     "metadata": {},
     "output_type": "display_data"
    },
    {
     "name": "stdout",
     "output_type": "stream",
     "text": [
      "0.6001774435503275 0.5856370857053614 0.5803093037486137\n",
      "Testing for estimators=50, max_depth=5\n"
     ]
    },
    {
     "data": {
      "application/vnd.jupyter.widget-view+json": {
       "model_id": "a9eaac277b064584a6b1448e778aaddc",
       "version_major": 2,
       "version_minor": 0
      },
      "text/plain": [
       "VBox(children=(HTML(value=''), IntProgress(value=0, max=1000)))"
      ]
     },
     "metadata": {},
     "output_type": "display_data"
    },
    {
     "name": "stdout",
     "output_type": "stream",
     "text": [
      "0.606650703395962 0.6193932510029746 0.6185030722368599\n",
      "Testing for estimators=100, max_depth=5\n"
     ]
    },
    {
     "data": {
      "application/vnd.jupyter.widget-view+json": {
       "model_id": "b0d9ddf900f444e4a9f2a06e8640253e",
       "version_major": 2,
       "version_minor": 0
      },
      "text/plain": [
       "VBox(children=(HTML(value=''), IntProgress(value=0, max=1000)))"
      ]
     },
     "metadata": {},
     "output_type": "display_data"
    },
    {
     "name": "stdout",
     "output_type": "stream",
     "text": [
      "0.604735832789852 0.6169546938810007 0.6202388556281118\n",
      "Testing for estimators=200, max_depth=5\n"
     ]
    },
    {
     "data": {
      "application/vnd.jupyter.widget-view+json": {
       "model_id": "a04237636622420e9ce1b9e854f4f3f1",
       "version_major": 2,
       "version_minor": 0
      },
      "text/plain": [
       "VBox(children=(HTML(value=''), IntProgress(value=0, max=1000)))"
      ]
     },
     "metadata": {},
     "output_type": "display_data"
    },
    {
     "name": "stdout",
     "output_type": "stream",
     "text": [
      "0.6015039380471066 0.6121539068827705 0.6141395321222975\n",
      "Testing for estimators=300, max_depth=5\n"
     ]
    },
    {
     "data": {
      "application/vnd.jupyter.widget-view+json": {
       "model_id": "715a514797d346d08c933a33d88dc3ab",
       "version_major": 2,
       "version_minor": 0
      },
      "text/plain": [
       "VBox(children=(HTML(value=''), IntProgress(value=0, max=1000)))"
      ]
     },
     "metadata": {},
     "output_type": "display_data"
    },
    {
     "name": "stdout",
     "output_type": "stream",
     "text": [
      "0.596464421373037 0.5603417172267079 0.5557404707304813\n",
      "Testing for estimators=400, max_depth=5\n"
     ]
    },
    {
     "data": {
      "application/vnd.jupyter.widget-view+json": {
       "model_id": "036fb6362f5a4c9880797a6aa33ca4aa",
       "version_major": 2,
       "version_minor": 0
      },
      "text/plain": [
       "VBox(children=(HTML(value=''), IntProgress(value=0, max=1000)))"
      ]
     },
     "metadata": {},
     "output_type": "display_data"
    },
    {
     "name": "stdout",
     "output_type": "stream",
     "text": [
      "0.5881427445251879 0.5738915934977844 0.5737841039493751\n",
      "Testing for estimators=500, max_depth=5\n"
     ]
    },
    {
     "data": {
      "application/vnd.jupyter.widget-view+json": {
       "model_id": "8f0b88fe747b44b0abae9f311ef53670",
       "version_major": 2,
       "version_minor": 0
      },
      "text/plain": [
       "VBox(children=(HTML(value=''), IntProgress(value=0, max=1000)))"
      ]
     },
     "metadata": {},
     "output_type": "display_data"
    },
    {
     "name": "stdout",
     "output_type": "stream",
     "text": [
      "0.5853820702898636 0.5808190595133342 0.5871042502556029\n",
      "Testing for estimators=50, max_depth=8\n"
     ]
    },
    {
     "data": {
      "application/vnd.jupyter.widget-view+json": {
       "model_id": "e4d586b7159942a5a95639ad34cc4d28",
       "version_major": 2,
       "version_minor": 0
      },
      "text/plain": [
       "VBox(children=(HTML(value=''), IntProgress(value=0, max=1000)))"
      ]
     },
     "metadata": {},
     "output_type": "display_data"
    },
    {
     "name": "stdout",
     "output_type": "stream",
     "text": [
      "0.593298319354964 0.5539057636090454 0.5585855691335362\n",
      "Testing for estimators=100, max_depth=8\n"
     ]
    },
    {
     "data": {
      "application/vnd.jupyter.widget-view+json": {
       "model_id": "a5c163f203c04a38b13f5b381e063cdc",
       "version_major": 2,
       "version_minor": 0
      },
      "text/plain": [
       "VBox(children=(HTML(value=''), IntProgress(value=0, max=1000)))"
      ]
     },
     "metadata": {},
     "output_type": "display_data"
    },
    {
     "name": "stdout",
     "output_type": "stream",
     "text": [
      "0.5943144815156557 0.5892421568939338 0.5843818470468285\n",
      "Testing for estimators=200, max_depth=8\n"
     ]
    },
    {
     "data": {
      "application/vnd.jupyter.widget-view+json": {
       "model_id": "5c6c450f39bf4dc8a5028c752bf7c227",
       "version_major": 2,
       "version_minor": 0
      },
      "text/plain": [
       "VBox(children=(HTML(value=''), IntProgress(value=0, max=1000)))"
      ]
     },
     "metadata": {},
     "output_type": "display_data"
    },
    {
     "name": "stdout",
     "output_type": "stream",
     "text": [
      "0.5867870114168994 0.5530721874831913 0.5593912573010813\n",
      "Testing for estimators=300, max_depth=8\n"
     ]
    },
    {
     "data": {
      "application/vnd.jupyter.widget-view+json": {
       "model_id": "1f7437a4d52841bfa47de77b3177e750",
       "version_major": 2,
       "version_minor": 0
      },
      "text/plain": [
       "VBox(children=(HTML(value=''), IntProgress(value=0, max=1000)))"
      ]
     },
     "metadata": {},
     "output_type": "display_data"
    },
    {
     "name": "stdout",
     "output_type": "stream",
     "text": [
      "0.5807950234060921 0.6008397826771001 0.6030150342293232\n",
      "Testing for estimators=400, max_depth=8\n"
     ]
    },
    {
     "data": {
      "application/vnd.jupyter.widget-view+json": {
       "model_id": "67648f5c2c474d82a67e024704ba1d03",
       "version_major": 2,
       "version_minor": 0
      },
      "text/plain": [
       "VBox(children=(HTML(value=''), IntProgress(value=0, max=1000)))"
      ]
     },
     "metadata": {},
     "output_type": "display_data"
    }
   ],
   "source": [
    "tree_depth_options = [3,5,8,10]\n",
    "estimator_options = [50, 100, 200, 300, 400, 500]\n",
    "number_sampled = 1000\n",
    "epsilon=160\n",
    "delta=100000\n",
    "\n",
    "for max_depth in tree_depth_options:\n",
    "    for estimators in estimator_options:\n",
    "        print(f'Testing for estimators={estimators}, max_depth={max_depth}')\n",
    "        \n",
    "        gbr = GradientBoostingRegressor(\n",
    "            max_depth = max_depth,\n",
    "            learning_rate = 0.1,\n",
    "            n_estimators = estimators\n",
    "        )\n",
    "\n",
    "        gbr.fit(X_train, y_train)\n",
    "        y_pred = gbr.predict(X_test)\n",
    "\n",
    "        sampled_indices = np.random.choice(range(len(X_test)), number_sampled, replace=False)\n",
    "        X_test_trimmed = np.delete(X_test, sampled_indices, axis = 0)\n",
    "        y_test_trimmed = np.delete(y_test, sampled_indices, axis = 0)\n",
    "\n",
    "        X_counter = []\n",
    "\n",
    "        counter_indices = []\n",
    "\n",
    "        for i, idx in log_progress(enumerate(sampled_indices), every=1, size=number_sampled):\n",
    "            model_expression, all_reals = get_gamma_R(gbr, X_input=X_test[idx], epsilon=epsilon, delta=delta)\n",
    "            exec(\",\".join(list(all_reals)) + \" = Reals('\" + \" \".join(list(all_reals)) + \"')\")\n",
    "            gamma_ = eval(re.sub(\"\\s+\", '', model_expression))\n",
    "\n",
    "            s = Solver()\n",
    "            s.add(gamma_)\n",
    "            if s.check() == sat: # If there is a counter example\n",
    "                counter_indices.append(idx)\n",
    "\n",
    "                # Retrieve all x variables\n",
    "                X = [0] * D\n",
    "                for variable in s.model():\n",
    "                    if str(variable).startswith(\"x\"):\n",
    "                        X[int(str(variable)[2:])] = float(s.model()[variable].numerator_as_long()) / float(s.model()[variable].denominator_as_long())\n",
    "                X_counter.append(X)\n",
    "                \n",
    "        gbr_counter_1 = GradientBoostingRegressor(max_depth = max_depth, learning_rate = 0.1, n_estimators = estimators)\n",
    "        gbr_counter_2 = GradientBoostingRegressor(max_depth = max_depth, learning_rate = 0.1, n_estimators = estimators)\n",
    "\n",
    "        gbr_counter_1.fit(np.append(X_train, X_counter, axis = 0), np.append(y_train, y_test[counter_indices], axis = 0))\n",
    "        gbr_counter_2.fit(\n",
    "            np.append(X_train, X_counter, axis = 0),\n",
    "            np.append(y_train, y_test[counter_indices] + np.where(y_test[counter_indices] < y_pred[counter_indices], epsilon, -epsilon), axis = 0)\n",
    "        )\n",
    "\n",
    "        with open(f'CounterExamplesResults/results_estimators={estimators}_depth={max_depth}.pkl', 'wb+') as file:\n",
    "            results = {\n",
    "                'counter_indices': counter_indices,\n",
    "                'X_counter': X_counter,\n",
    "                'r2_score_1': r2_score(y_test, y_pred),\n",
    "                'r2_score_2': r2_score(y_test_trimmed, gbr_counter_1.predict(X_test_trimmed)),\n",
    "                'r2_score_3': r2_score(y_test_trimmed, gbr_counter_2.predict(X_test_trimmed))\n",
    "            }\n",
    "            print(results['r2_score_1'], results['r2_score_2'], results['r2_score_3'])\n",
    "            pickle.dump(results, file)"
   ]
  },
  {
   "cell_type": "markdown",
   "metadata": {},
   "source": [
    "# Results"
   ]
  },
  {
   "cell_type": "code",
   "execution_count": 14,
   "metadata": {},
   "outputs": [
    {
     "name": "stdout",
     "output_type": "stream",
     "text": [
      "[Errno 2] No such file or directory: 'CounterExamplesResults/results_estimators=400_depth=8.pkl'\n",
      "[Errno 2] No such file or directory: 'CounterExamplesResults/results_estimators=500_depth=8.pkl'\n",
      "[Errno 2] No such file or directory: 'CounterExamplesResults/results_estimators=300_depth=10.pkl'\n",
      "[Errno 2] No such file or directory: 'CounterExamplesResults/results_estimators=400_depth=10.pkl'\n",
      "[Errno 2] No such file or directory: 'CounterExamplesResults/results_estimators=500_depth=10.pkl'\n"
     ]
    }
   ],
   "source": [
    "import pickle\n",
    "\n",
    "tree_depth_options = [3,5,8,10]\n",
    "estimator_options = [50, 100, 200, 300, 400, 500]\n",
    "results = dict()\n",
    "\n",
    "for max_depth in tree_depth_options:\n",
    "    for estimators in estimator_options:\n",
    "        try:\n",
    "            with open(f'CounterExamplesResults/results_estimators={estimators}_depth={max_depth}.pkl', 'rb+') as file:\n",
    "                results[(max_depth, estimators)] = pickle.load(file)\n",
    "        except Exception as e:\n",
    "            print(e)"
   ]
  },
  {
   "cell_type": "code",
   "execution_count": 15,
   "metadata": {},
   "outputs": [
    {
     "data": {
      "image/png": "[encoded data removed]",
      "text/plain": [
       "<Figure size 432x180 with 1 Axes>"
      ]
     },
     "metadata": {},
     "output_type": "display_data"
    }
   ],
   "source": [
    "import numpy as np\n",
    "import matplotlib.pyplot as plt\n",
    "%matplotlib inline\n",
    "\n",
    "symbol_by_depth = {\n",
    "    '3':{'marker':'d', 'linestyle':'solid'},\n",
    "    '5':{'marker':'s', 'linestyle':'dashdot'},\n",
    "    '8':{'marker':'^', 'linestyle':'dashed'},\n",
    "    '10':{'marker':'x', 'linestyle':'dotted'}\n",
    "}\n",
    "\n",
    "plt.figure(figsize=(6,2.5), facecolor='white')\n",
    "for max_depth in tree_depth_options:\n",
    "    lift_values = []\n",
    "    estimator_values = []\n",
    "    for estimators in estimator_options:\n",
    "        try:\n",
    "            this_results = results[(max_depth, estimators)]\n",
    "        except:\n",
    "            continue\n",
    "            \n",
    "        lift_values.append(this_results['r2_score_2'] - this_results['r2_score_1'])\n",
    "        estimator_values.append(estimators)\n",
    "    plt.plot(\n",
    "        estimator_values, \n",
    "        lift_values, \n",
    "        label=f'max_depth={max_depth}', \n",
    "        marker=symbol_by_depth[str(max_depth)]['marker'], \n",
    "        linestyle=symbol_by_depth[str(max_depth)]['linestyle'], \n",
    "        color='black'\n",
    "    )\n",
    "\n",
    "plt.ylim(-0.05,0.05)\n",
    "plt.ylabel(r'R^2')\n",
    "plt.xlabel('Number of Trees')\n",
    "plt.legend(loc='best')\n",
    "plt.grid(True, 'major', 'y')\n",
    "plt.box(on=None)\n",
    "plt.show()"
   ]
  },
  {
   "cell_type": "code",
   "execution_count": 16,
   "metadata": {},
   "outputs": [
    {
     "data": {
      "image/png": "[encoded data removed]",
      "text/plain": [
       "<Figure size 432x180 with 1 Axes>"
      ]
     },
     "metadata": {},
     "output_type": "display_data"
    }
   ],
   "source": [
    "import numpy as np\n",
    "import matplotlib.pyplot as plt\n",
    "%matplotlib inline\n",
    "\n",
    "symbol_by_depth = {\n",
    "    '3':{'marker':'d', 'linestyle':'solid'},\n",
    "    '5':{'marker':'s', 'linestyle':'dashdot'},\n",
    "    '8':{'marker':'^', 'linestyle':'dashed'},\n",
    "    '10':{'marker':'x', 'linestyle':'dotted'}\n",
    "}\n",
    "\n",
    "plt.figure(figsize=(6,2.5), facecolor='white')\n",
    "for max_depth in tree_depth_options:\n",
    "    lift_values = []\n",
    "    estimator_values = []\n",
    "    for estimators in estimator_options:\n",
    "        try:\n",
    "            this_results = results[(max_depth, estimators)]\n",
    "        except:\n",
    "            continue\n",
    "            \n",
    "        lift_values.append(this_results['r2_score_2'] - this_results['r2_score_3'])\n",
    "        estimator_values.append(estimators)\n",
    "    plt.plot(\n",
    "        estimator_values, \n",
    "        lift_values, \n",
    "        label=f'max_depth={max_depth}', \n",
    "        marker=symbol_by_depth[str(max_depth)]['marker'], \n",
    "        linestyle=symbol_by_depth[str(max_depth)]['linestyle'], \n",
    "        color='black'\n",
    "    )\n",
    "\n",
    "plt.ylim(-0.05,0.05)\n",
    "plt.ylabel(r'$R^2$ score')\n",
    "plt.xlabel('Number of Trees')\n",
    "plt.legend(loc='best')\n",
    "plt.grid(True, 'major', 'y')\n",
    "plt.box(on=None)\n",
    "plt.show()"
   ]
  },
  {
   "cell_type": "code",
   "execution_count": null,
   "metadata": {},
   "outputs": [],
   "source": []
  }
 ],
 "metadata": {
  "kernelspec": {
   "display_name": "Python 3",
   "language": "python",
   "name": "python3"
  },
  "language_info": {
   "codemirror_mode": {
    "name": "ipython",
    "version": 3
   },
   "file_extension": ".py",
   "mimetype": "text/x-python",
   "name": "python",
   "nbconvert_exporter": "python",
   "pygments_lexer": "ipython3",
   "version": "3.8.5"
  }
 },
 "nbformat": 4,
 "nbformat_minor": 4
}
