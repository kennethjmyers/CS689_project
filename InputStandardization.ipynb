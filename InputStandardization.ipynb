{
 "cells": [
  {
   "cell_type": "code",
   "execution_count": 1,
   "metadata": {},
   "outputs": [],
   "source": [
    "import pandas as pd\n",
    "import numpy as np\n",
    "import re\n",
    "import os\n",
    "from z3 import *\n",
    "from VeriGB import get_gamma_R\n",
    "\n",
    "pd.set_option('display.max_columns', 500)\n"
   ]
  },
  {
   "cell_type": "code",
   "execution_count": 2,
   "metadata": {},
   "outputs": [
    {
     "data": {
      "text/html": [
       "<div>\n",
       "<style scoped>\n",
       "    .dataframe tbody tr th:only-of-type {\n",
       "        vertical-align: middle;\n",
       "    }\n",
       "\n",
       "    .dataframe tbody tr th {\n",
       "        vertical-align: top;\n",
       "    }\n",
       "\n",
       "    .dataframe thead th {\n",
       "        text-align: right;\n",
       "    }\n",
       "</style>\n",
       "<table border=\"1\" class=\"dataframe\">\n",
       "  <thead>\n",
       "    <tr style=\"text-align: right;\">\n",
       "      <th></th>\n",
       "      <th>bedrooms</th>\n",
       "      <th>bathrooms</th>\n",
       "      <th>sqft_living</th>\n",
       "      <th>sqft_lot</th>\n",
       "      <th>floors</th>\n",
       "      <th>waterfront</th>\n",
       "      <th>view</th>\n",
       "      <th>condition</th>\n",
       "      <th>grade</th>\n",
       "      <th>sqft_above</th>\n",
       "      <th>sqft_basement</th>\n",
       "      <th>yr_built</th>\n",
       "      <th>yr_renovated</th>\n",
       "      <th>zipcode</th>\n",
       "      <th>lat</th>\n",
       "      <th>long</th>\n",
       "      <th>sqft_living15</th>\n",
       "      <th>sqft_lot15</th>\n",
       "    </tr>\n",
       "  </thead>\n",
       "  <tbody>\n",
       "    <tr>\n",
       "      <th>0</th>\n",
       "      <td>3</td>\n",
       "      <td>1.00</td>\n",
       "      <td>1180</td>\n",
       "      <td>5650</td>\n",
       "      <td>1.0</td>\n",
       "      <td>0</td>\n",
       "      <td>0</td>\n",
       "      <td>3</td>\n",
       "      <td>7</td>\n",
       "      <td>1180</td>\n",
       "      <td>0</td>\n",
       "      <td>1955</td>\n",
       "      <td>0</td>\n",
       "      <td>98178</td>\n",
       "      <td>47.5112</td>\n",
       "      <td>-122.257</td>\n",
       "      <td>1340</td>\n",
       "      <td>5650</td>\n",
       "    </tr>\n",
       "    <tr>\n",
       "      <th>1</th>\n",
       "      <td>3</td>\n",
       "      <td>2.25</td>\n",
       "      <td>2570</td>\n",
       "      <td>7242</td>\n",
       "      <td>2.0</td>\n",
       "      <td>0</td>\n",
       "      <td>0</td>\n",
       "      <td>3</td>\n",
       "      <td>7</td>\n",
       "      <td>2170</td>\n",
       "      <td>400</td>\n",
       "      <td>1951</td>\n",
       "      <td>1991</td>\n",
       "      <td>98125</td>\n",
       "      <td>47.7210</td>\n",
       "      <td>-122.319</td>\n",
       "      <td>1690</td>\n",
       "      <td>7639</td>\n",
       "    </tr>\n",
       "    <tr>\n",
       "      <th>2</th>\n",
       "      <td>2</td>\n",
       "      <td>1.00</td>\n",
       "      <td>770</td>\n",
       "      <td>10000</td>\n",
       "      <td>1.0</td>\n",
       "      <td>0</td>\n",
       "      <td>0</td>\n",
       "      <td>3</td>\n",
       "      <td>6</td>\n",
       "      <td>770</td>\n",
       "      <td>0</td>\n",
       "      <td>1933</td>\n",
       "      <td>0</td>\n",
       "      <td>98028</td>\n",
       "      <td>47.7379</td>\n",
       "      <td>-122.233</td>\n",
       "      <td>2720</td>\n",
       "      <td>8062</td>\n",
       "    </tr>\n",
       "    <tr>\n",
       "      <th>3</th>\n",
       "      <td>4</td>\n",
       "      <td>3.00</td>\n",
       "      <td>1960</td>\n",
       "      <td>5000</td>\n",
       "      <td>1.0</td>\n",
       "      <td>0</td>\n",
       "      <td>0</td>\n",
       "      <td>5</td>\n",
       "      <td>7</td>\n",
       "      <td>1050</td>\n",
       "      <td>910</td>\n",
       "      <td>1965</td>\n",
       "      <td>0</td>\n",
       "      <td>98136</td>\n",
       "      <td>47.5208</td>\n",
       "      <td>-122.393</td>\n",
       "      <td>1360</td>\n",
       "      <td>5000</td>\n",
       "    </tr>\n",
       "    <tr>\n",
       "      <th>4</th>\n",
       "      <td>3</td>\n",
       "      <td>2.00</td>\n",
       "      <td>1680</td>\n",
       "      <td>8080</td>\n",
       "      <td>1.0</td>\n",
       "      <td>0</td>\n",
       "      <td>0</td>\n",
       "      <td>3</td>\n",
       "      <td>8</td>\n",
       "      <td>1680</td>\n",
       "      <td>0</td>\n",
       "      <td>1987</td>\n",
       "      <td>0</td>\n",
       "      <td>98074</td>\n",
       "      <td>47.6168</td>\n",
       "      <td>-122.045</td>\n",
       "      <td>1800</td>\n",
       "      <td>7503</td>\n",
       "    </tr>\n",
       "  </tbody>\n",
       "</table>\n",
       "</div>"
      ],
      "text/plain": [
       "   bedrooms  bathrooms  sqft_living  sqft_lot  floors  waterfront  view  \\\n",
       "0         3       1.00         1180      5650     1.0           0     0   \n",
       "1         3       2.25         2570      7242     2.0           0     0   \n",
       "2         2       1.00          770     10000     1.0           0     0   \n",
       "3         4       3.00         1960      5000     1.0           0     0   \n",
       "4         3       2.00         1680      8080     1.0           0     0   \n",
       "\n",
       "   condition  grade  sqft_above  sqft_basement  yr_built  yr_renovated  \\\n",
       "0          3      7        1180              0      1955             0   \n",
       "1          3      7        2170            400      1951          1991   \n",
       "2          3      6         770              0      1933             0   \n",
       "3          5      7        1050            910      1965             0   \n",
       "4          3      8        1680              0      1987             0   \n",
       "\n",
       "   zipcode      lat     long  sqft_living15  sqft_lot15  \n",
       "0    98178  47.5112 -122.257           1340        5650  \n",
       "1    98125  47.7210 -122.319           1690        7639  \n",
       "2    98028  47.7379 -122.233           2720        8062  \n",
       "3    98136  47.5208 -122.393           1360        5000  \n",
       "4    98074  47.6168 -122.045           1800        7503  "
      ]
     },
     "execution_count": 2,
     "metadata": {},
     "output_type": "execute_result"
    }
   ],
   "source": [
    "housing_data = pd.read_csv('./Data/kc_house_data.csv')\n",
    "\n",
    "no_price_cols = [i for i in housing_data.columns if i not in {'price', 'date', 'id'}]\n",
    "\n",
    "X = housing_data[no_price_cols]\n",
    "y = housing_data['price']\n",
    "X.head()"
   ]
  },
  {
   "cell_type": "markdown",
   "metadata": {},
   "source": [
    "First determine what 160 sqft was in terms of z-score"
   ]
  },
  {
   "cell_type": "code",
   "execution_count": 11,
   "metadata": {},
   "outputs": [
    {
     "name": "stdout",
     "output_type": "stream",
     "text": [
      "sqft_living 160/std = 0.1742\n",
      "sqft_lot 160/std = 0.0039\n",
      "sqft_above 160/std = 0.1932\n",
      "sqft_basement 160/std = 0.3615\n",
      "sqft_living15 160/std = 0.2334\n",
      "sqft_lot15 160/std = 0.0059\n"
     ]
    }
   ],
   "source": [
    "sqft_cols = [i for i in housing_data.columns if 'sqft' in i]\n",
    "\n",
    "std_dev_all = []\n",
    "for col in sqft_cols:\n",
    "    std = np.std(X[col])\n",
    "    std_dev_all.append(160/std)\n",
    "    print(f'{col} 160/std = {160/std:.04f}')"
   ]
  },
  {
   "cell_type": "code",
   "execution_count": 12,
   "metadata": {},
   "outputs": [
    {
     "data": {
      "text/plain": [
       "0.16202214571393356"
      ]
     },
     "execution_count": 12,
     "metadata": {},
     "output_type": "execute_result"
    }
   ],
   "source": [
    "np.mean(std_dev_all)"
   ]
  },
  {
   "cell_type": "markdown",
   "metadata": {},
   "source": [
    "### Experiment"
   ]
  },
  {
   "cell_type": "code",
   "execution_count": 4,
   "metadata": {
    "scrolled": false
   },
   "outputs": [
    {
     "name": "stdout",
     "output_type": "stream",
     "text": [
      "Testing for estimators=50, max_depth=10\n",
      "Test r2 score: 0.89\n",
      "Tested 50 cases so far\n",
      "Tested 100 cases so far\n",
      "Tested 150 cases so far\n",
      "Tested 200 cases so far\n",
      "{'sat_rate': 0.505, 'unsat_rate': 0.495, 'timeout_rate': 0.0, 'r2_score': 0.8899451036987076}\n",
      "Testing for estimators=100, max_depth=10\n",
      "Test r2 score: 0.89\n",
      "Tested 50 cases so far\n",
      "Tested 100 cases so far\n",
      "Tested 150 cases so far\n",
      "Tested 200 cases so far\n",
      "{'sat_rate': 0.565, 'unsat_rate': 0.315, 'timeout_rate': 0.12, 'r2_score': 0.8930563941475049}\n",
      "Testing for estimators=200, max_depth=10\n",
      "Test r2 score: 0.89\n",
      "Tested 50 cases so far\n",
      "Tested 100 cases so far\n",
      "Tested 150 cases so far\n",
      "Tested 200 cases so far\n",
      "{'sat_rate': 0.385, 'unsat_rate': 0.005, 'timeout_rate': 0.61, 'r2_score': 0.8920609923753526}\n"
     ]
    }
   ],
   "source": [
    "import pickle\n",
    "from sklearn.ensemble import GradientBoostingRegressor\n",
    "from sklearn.model_selection import train_test_split\n",
    "from sklearn.metrics import r2_score\n",
    "from sklearn.preprocessing import StandardScaler\n",
    "\n",
    "np.random.seed(0)\n",
    "\n",
    "X = housing_data[no_price_cols]\n",
    "y = housing_data['price']\n",
    "\n",
    "X_train, X_test, y_train, y_test = train_test_split(X, y, test_size=0.2, random_state=0)\n",
    "\n",
    "ss = StandardScaler()\n",
    "X_train_scaled = ss.fit_transform(X_train)\n",
    "X_test_scaled = ss.transform(X_test)\n",
    "\n",
    "n = 1000*60*10  # 10 minutes\n",
    "set_option(timeout=n)  # n = milliseconds from https://github.com/Z3Prover/z3/issues/1386\n",
    "\n",
    "# tree_depth_options = [3,5,8,10]\n",
    "# estimator_options = [50, 100, 200, 300, 400, 500]\n",
    "# more complex regressors were taking too long so I scaled back sizes for depth=10\n",
    "tree_depth_options = [10]\n",
    "estimator_options = [50, 100, 200]\n",
    "\n",
    "for max_depth in tree_depth_options:\n",
    "    for estimators in estimator_options:\n",
    "        print(f'Testing for estimators={estimators}, max_depth={max_depth}')\n",
    "\n",
    "        gbr = GradientBoostingRegressor(\n",
    "            max_depth=max_depth,\n",
    "            learning_rate=0.1,\n",
    "            n_estimators=estimators  # number of trees\n",
    "        )\n",
    "\n",
    "        gbr.fit(X_train_scaled, y_train)\n",
    "        \n",
    "        y_pred = gbr.predict(X_test_scaled)\n",
    "        this_score = r2_score(y_test, y_pred)\n",
    "        print(f\"Test r2 score: {this_score:.02f}\")\n",
    "\n",
    "        # continue  # uncomment if you want to just see model prediction scores\n",
    "        \n",
    "        sat_count = 0\n",
    "        timeout_count = 0\n",
    "        number_sampled = 200\n",
    "\n",
    "        sampled_indexes = np.random.randint(low=0, high=len(X_test_scaled), size=number_sampled)\n",
    "\n",
    "        verbose = False\n",
    "        for i, idx in enumerate(sampled_indexes):\n",
    "            if verbose:\n",
    "                print(f'testing sample {i}, index: {idx}')\n",
    "            X_sample = X_test_scaled[idx]\n",
    "\n",
    "            # I wanted to confirm that every value starts with the same initial prediction and that is true\n",
    "        #     print(gbr.loss_.get_init_raw_predictions(\n",
    "        #                 np.array(X_sample).reshape(1,-1), \n",
    "        #                 gbr.init_).astype(np.float64))  \n",
    "\n",
    "            model_expression, all_reals = get_gamma_R(gbr, X_input=X_sample, epsilon=0.1, delta=100000)\n",
    "\n",
    "            # define all real values\n",
    "            exec(\",\".join(list(all_reals))+\" = Reals('\"+\" \".join(list(all_reals))+\"')\")\n",
    "\n",
    "\n",
    "            model_expression = re.sub(\"\\s+\", # one or more repetition of whitespace\n",
    "                   '', # replace with empty string (->remove)\n",
    "                   model_expression\n",
    "                  )\n",
    "            gamma_ = eval(model_expression)\n",
    "\n",
    "            s = Solver()\n",
    "            s.add(gamma_)\n",
    "            solver_result = s.check()\n",
    "            if verbose:\n",
    "                print(solver_result)\n",
    "            if s.check() == sat:\n",
    "                sat_count+=1\n",
    "                out_value = s.model()[out]\n",
    "                if verbose: \n",
    "                    print(float(out_value.numerator_as_long())/float(out_value.denominator_as_long()))\n",
    "            if s.check() == unknown:\n",
    "                timeout_count+=1\n",
    "                if verbose:\n",
    "                    print('timeout found')\n",
    "\n",
    "            if ((i+1)%50) == 0:\n",
    "                print(f'Tested {i+1} cases so far')\n",
    "\n",
    "        results_dict = {\n",
    "            'sat_rate':sat_count/number_sampled,\n",
    "            'unsat_rate': (number_sampled-sat_count-timeout_count)/number_sampled,\n",
    "            'timeout_rate': timeout_count/number_sampled,\n",
    "            'r2_score': this_score\n",
    "        }\n",
    "\n",
    "        print(results_dict)\n",
    "        \n",
    "        outfile_name = f'StandardizationResults/results_estimators={estimators}_depth={max_depth}.pkl'\n",
    "        # check if file exists if so ask user if they want to overwrite\n",
    "        if os.path.exists(outfile_name):\n",
    "            while True:\n",
    "                user_input = input(f'{outfile_name} already exists would you like to overwrite (yes) or skip (no)> ')\n",
    "                if user_input in {'yes', 'no'}:\n",
    "                    break  # break while loop\n",
    "            if user_input == 'yes':\n",
    "                pass  # file will be overwritten\n",
    "            elif user_input=='no':\n",
    "                continue  # to next test\n",
    "        \n",
    "        with open(outfile_name, 'wb+') as file:\n",
    "            pickle.dump(results_dict, file)"
   ]
  },
  {
   "cell_type": "code",
   "execution_count": 7,
   "metadata": {},
   "outputs": [],
   "source": [
    "with open(f'StandardizationResults/results_estimators={estimators}_depth={max_depth}.pkl', 'rb+') as file:\n",
    "    results_out = pickle.load(file)"
   ]
  },
  {
   "cell_type": "code",
   "execution_count": 8,
   "metadata": {},
   "outputs": [
    {
     "data": {
      "text/plain": [
       "{'sat_rate': 0.385,\n",
       " 'unsat_rate': 0.005,\n",
       " 'timeout_rate': 0.61,\n",
       " 'r2_score': 0.8920609923753526}"
      ]
     },
     "execution_count": 8,
     "metadata": {},
     "output_type": "execute_result"
    }
   ],
   "source": [
    "results_out"
   ]
  },
  {
   "cell_type": "code",
   "execution_count": null,
   "metadata": {},
   "outputs": [],
   "source": []
  },
  {
   "cell_type": "code",
   "execution_count": null,
   "metadata": {},
   "outputs": [],
   "source": []
  },
  {
   "cell_type": "code",
   "execution_count": null,
   "metadata": {},
   "outputs": [],
   "source": []
  },
  {
   "cell_type": "code",
   "execution_count": null,
   "metadata": {},
   "outputs": [],
   "source": []
  },
  {
   "cell_type": "code",
   "execution_count": null,
   "metadata": {},
   "outputs": [],
   "source": []
  },
  {
   "cell_type": "code",
   "execution_count": null,
   "metadata": {},
   "outputs": [],
   "source": []
  },
  {
   "cell_type": "code",
   "execution_count": null,
   "metadata": {},
   "outputs": [],
   "source": []
  },
  {
   "cell_type": "code",
   "execution_count": null,
   "metadata": {},
   "outputs": [],
   "source": []
  },
  {
   "cell_type": "code",
   "execution_count": null,
   "metadata": {},
   "outputs": [],
   "source": []
  },
  {
   "cell_type": "code",
   "execution_count": null,
   "metadata": {},
   "outputs": [],
   "source": []
  },
  {
   "cell_type": "code",
   "execution_count": null,
   "metadata": {},
   "outputs": [],
   "source": []
  },
  {
   "cell_type": "code",
   "execution_count": null,
   "metadata": {},
   "outputs": [],
   "source": []
  },
  {
   "cell_type": "code",
   "execution_count": 107,
   "metadata": {},
   "outputs": [],
   "source": [
    "# print(X_sample)\n",
    "# print(tree.feature)\n",
    "# print(tree.threshold)"
   ]
  },
  {
   "cell_type": "code",
   "execution_count": 14,
   "metadata": {},
   "outputs": [
    {
     "data": {
      "text/plain": [
       "-84004.33994787265"
      ]
     },
     "execution_count": 14,
     "metadata": {},
     "output_type": "execute_result"
    }
   ],
   "source": [
    "tree.value[4][0,0]"
   ]
  },
  {
   "cell_type": "code",
   "execution_count": 15,
   "metadata": {},
   "outputs": [
    {
     "data": {
      "text/plain": [
       "array([ 1,  2,  3, -1, -1,  6, -1, -1,  9, 10, -1, -1, 13, -1, -1],\n",
       "      dtype=int64)"
      ]
     },
     "execution_count": 15,
     "metadata": {},
     "output_type": "execute_result"
    }
   ],
   "source": [
    "tree.children_left\n"
   ]
  },
  {
   "cell_type": "code",
   "execution_count": 16,
   "metadata": {},
   "outputs": [
    {
     "data": {
      "text/plain": [
       "array([ 8,  5,  4, -1, -1,  7, -1, -1, 12, 11, -1, -1, 14, -1, -1],\n",
       "      dtype=int64)"
      ]
     },
     "execution_count": 16,
     "metadata": {},
     "output_type": "execute_result"
    }
   ],
   "source": [
    "tree.children_right\n"
   ]
  },
  {
   "cell_type": "code",
   "execution_count": 17,
   "metadata": {},
   "outputs": [
    {
     "data": {
      "text/plain": [
       "<sklearn.tree._tree.Tree at 0x20e002c59d0>"
      ]
     },
     "execution_count": 17,
     "metadata": {},
     "output_type": "execute_result"
    }
   ],
   "source": [
    "tree"
   ]
  },
  {
   "cell_type": "code",
   "execution_count": 53,
   "metadata": {},
   "outputs": [
    {
     "data": {
      "text/plain": [
       "9"
      ]
     },
     "execution_count": 53,
     "metadata": {},
     "output_type": "execute_result"
    }
   ],
   "source": [
    "import re\n",
    "exec('res='+re.sub('\\s', '','4+\\n\\t\\t5'))\n",
    "res"
   ]
  },
  {
   "cell_type": "code",
   "execution_count": null,
   "metadata": {},
   "outputs": [],
   "source": []
  }
 ],
 "metadata": {
  "kernelspec": {
   "display_name": "Python 3",
   "language": "python",
   "name": "python3"
  },
  "language_info": {
   "codemirror_mode": {
    "name": "ipython",
    "version": 3
   },
   "file_extension": ".py",
   "mimetype": "text/x-python",
   "name": "python",
   "nbconvert_exporter": "python",
   "pygments_lexer": "ipython3",
   "version": "3.8.3"
  }
 },
 "nbformat": 4,
 "nbformat_minor": 4
}
