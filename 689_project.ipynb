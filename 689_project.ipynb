{
 "cells": [
  {
   "cell_type": "code",
   "execution_count": 1,
   "metadata": {},
   "outputs": [
    {
     "name": "stdout",
     "output_type": "stream",
     "text": [
      "sat\n",
      "[y = 4, x = 2]\n"
     ]
    }
   ],
   "source": [
    "from z3 import *\n",
    "\n",
    "x = Real('x')\n",
    "y = Real('y')\n",
    "s = Solver()\n",
    "s.add(x + y > 5, x > 1, y > 1)\n",
    "print(s.check())\n",
    "print(s.model())"
   ]
  },
  {
   "cell_type": "code",
   "execution_count": 58,
   "metadata": {},
   "outputs": [],
   "source": [
    "del x,y\n",
    "# exec(\"x = Int('x')\")\n",
    "# exec(\"y = Int('y')\")\n",
    "exec(\"x,y = Ints('x y')\")"
   ]
  },
  {
   "cell_type": "code",
   "execution_count": 59,
   "metadata": {},
   "outputs": [
    {
     "name": "stdout",
     "output_type": "stream",
     "text": [
      "And(x == y, Not(x == y))\n",
      "unsat\n"
     ]
    }
   ],
   "source": [
    "# x = Int('x')\n",
    "# y = Int('y')\n",
    "s = \"And(x == y, Not(x == y))\"\n",
    "f2 = eval(s)\n",
    "print(f2)\n",
    "s = Solver()\n",
    "s.add(f2)\n",
    "print(s.check())\n",
    "# print(s.model())"
   ]
  },
  {
   "cell_type": "code",
   "execution_count": 21,
   "metadata": {},
   "outputs": [],
   "source": [
    "import pandas as pd\n",
    "import numpy as np\n",
    "pd.set_option('display.max_columns', 500)\n",
    "\n",
    "housing_data = pd.read_csv('./Data/kc_house_data.csv')"
   ]
  },
  {
   "cell_type": "code",
   "execution_count": 3,
   "metadata": {},
   "outputs": [],
   "source": [
    "sqft_cols = [i for i in housing_data.columns if 'sqft' in i]"
   ]
  },
  {
   "cell_type": "code",
   "execution_count": 4,
   "metadata": {},
   "outputs": [
    {
     "data": {
      "text/html": [
       "<div>\n",
       "<style scoped>\n",
       "    .dataframe tbody tr th:only-of-type {\n",
       "        vertical-align: middle;\n",
       "    }\n",
       "\n",
       "    .dataframe tbody tr th {\n",
       "        vertical-align: top;\n",
       "    }\n",
       "\n",
       "    .dataframe thead th {\n",
       "        text-align: right;\n",
       "    }\n",
       "</style>\n",
       "<table border=\"1\" class=\"dataframe\">\n",
       "  <thead>\n",
       "    <tr style=\"text-align: right;\">\n",
       "      <th></th>\n",
       "      <th>sqft_living</th>\n",
       "      <th>sqft_lot</th>\n",
       "      <th>sqft_above</th>\n",
       "      <th>sqft_basement</th>\n",
       "      <th>sqft_living15</th>\n",
       "      <th>sqft_lot15</th>\n",
       "    </tr>\n",
       "  </thead>\n",
       "  <tbody>\n",
       "    <tr>\n",
       "      <th>0</th>\n",
       "      <td>1180</td>\n",
       "      <td>5650</td>\n",
       "      <td>1180</td>\n",
       "      <td>0</td>\n",
       "      <td>1340</td>\n",
       "      <td>5650</td>\n",
       "    </tr>\n",
       "    <tr>\n",
       "      <th>1</th>\n",
       "      <td>2570</td>\n",
       "      <td>7242</td>\n",
       "      <td>2170</td>\n",
       "      <td>400</td>\n",
       "      <td>1690</td>\n",
       "      <td>7639</td>\n",
       "    </tr>\n",
       "    <tr>\n",
       "      <th>2</th>\n",
       "      <td>770</td>\n",
       "      <td>10000</td>\n",
       "      <td>770</td>\n",
       "      <td>0</td>\n",
       "      <td>2720</td>\n",
       "      <td>8062</td>\n",
       "    </tr>\n",
       "    <tr>\n",
       "      <th>3</th>\n",
       "      <td>1960</td>\n",
       "      <td>5000</td>\n",
       "      <td>1050</td>\n",
       "      <td>910</td>\n",
       "      <td>1360</td>\n",
       "      <td>5000</td>\n",
       "    </tr>\n",
       "    <tr>\n",
       "      <th>4</th>\n",
       "      <td>1680</td>\n",
       "      <td>8080</td>\n",
       "      <td>1680</td>\n",
       "      <td>0</td>\n",
       "      <td>1800</td>\n",
       "      <td>7503</td>\n",
       "    </tr>\n",
       "  </tbody>\n",
       "</table>\n",
       "</div>"
      ],
      "text/plain": [
       "   sqft_living  sqft_lot  sqft_above  sqft_basement  sqft_living15  sqft_lot15\n",
       "0         1180      5650        1180              0           1340        5650\n",
       "1         2570      7242        2170            400           1690        7639\n",
       "2          770     10000         770              0           2720        8062\n",
       "3         1960      5000        1050            910           1360        5000\n",
       "4         1680      8080        1680              0           1800        7503"
      ]
     },
     "execution_count": 4,
     "metadata": {},
     "output_type": "execute_result"
    }
   ],
   "source": [
    "X = housing_data[sqft_cols]\n",
    "y = housing_data['price']\n",
    "X.head()"
   ]
  },
  {
   "cell_type": "code",
   "execution_count": 5,
   "metadata": {},
   "outputs": [
    {
     "data": {
      "text/plain": [
       "GradientBoostingRegressor(n_estimators=50)"
      ]
     },
     "execution_count": 5,
     "metadata": {},
     "output_type": "execute_result"
    }
   ],
   "source": [
    "from sklearn.ensemble import GradientBoostingRegressor\n",
    "# from sklearn.experimental import enable_hist_gradient_boosting\n",
    "# from sklearn.ensemble import HistGradientBoostingRegressor\n",
    "\n",
    "gbr = GradientBoostingRegressor(\n",
    "    max_depth=3,\n",
    "    learning_rate=0.1,\n",
    "    n_estimators=50  # number of trees\n",
    ")\n",
    "\n",
    "gbr.fit(X,y)\n"
   ]
  },
  {
   "cell_type": "code",
   "execution_count": 6,
   "metadata": {
    "scrolled": true
   },
   "outputs": [
    {
     "name": "stdout",
     "output_type": "stream",
     "text": [
      "Help on class Tree in module sklearn.tree._tree:\n",
      "\n",
      "class Tree(builtins.object)\n",
      " |  Array-based representation of a binary decision tree.\n",
      " |  \n",
      " |  The binary tree is represented as a number of parallel arrays. The i-th\n",
      " |  element of each array holds information about the node `i`. Node 0 is the\n",
      " |  tree's root. You can find a detailed description of all arrays in\n",
      " |  `_tree.pxd`. NOTE: Some of the arrays only apply to either leaves or split\n",
      " |  nodes, resp. In this case the values of nodes of the other type are\n",
      " |  arbitrary!\n",
      " |  \n",
      " |  Attributes\n",
      " |  ----------\n",
      " |  node_count : int\n",
      " |      The number of nodes (internal nodes + leaves) in the tree.\n",
      " |  \n",
      " |  capacity : int\n",
      " |      The current capacity (i.e., size) of the arrays, which is at least as\n",
      " |      great as `node_count`.\n",
      " |  \n",
      " |  max_depth : int\n",
      " |      The depth of the tree, i.e. the maximum depth of its leaves.\n",
      " |  \n",
      " |  children_left : array of int, shape [node_count]\n",
      " |      children_left[i] holds the node id of the left child of node i.\n",
      " |      For leaves, children_left[i] == TREE_LEAF. Otherwise,\n",
      " |      children_left[i] > i. This child handles the case where\n",
      " |      X[:, feature[i]] <= threshold[i].\n",
      " |  \n",
      " |  children_right : array of int, shape [node_count]\n",
      " |      children_right[i] holds the node id of the right child of node i.\n",
      " |      For leaves, children_right[i] == TREE_LEAF. Otherwise,\n",
      " |      children_right[i] > i. This child handles the case where\n",
      " |      X[:, feature[i]] > threshold[i].\n",
      " |  \n",
      " |  feature : array of int, shape [node_count]\n",
      " |      feature[i] holds the feature to split on, for the internal node i.\n",
      " |  \n",
      " |  threshold : array of double, shape [node_count]\n",
      " |      threshold[i] holds the threshold for the internal node i.\n",
      " |  \n",
      " |  value : array of double, shape [node_count, n_outputs, max_n_classes]\n",
      " |      Contains the constant prediction value of each node.\n",
      " |  \n",
      " |  impurity : array of double, shape [node_count]\n",
      " |      impurity[i] holds the impurity (i.e., the value of the splitting\n",
      " |      criterion) at node i.\n",
      " |  \n",
      " |  n_node_samples : array of int, shape [node_count]\n",
      " |      n_node_samples[i] holds the number of training samples reaching node i.\n",
      " |  \n",
      " |  weighted_n_node_samples : array of int, shape [node_count]\n",
      " |      weighted_n_node_samples[i] holds the weighted number of training samples\n",
      " |      reaching node i.\n",
      " |  \n",
      " |  Methods defined here:\n",
      " |  \n",
      " |  __getstate__(...)\n",
      " |      Getstate re-implementation, for pickling.\n",
      " |  \n",
      " |  __reduce__(...)\n",
      " |      Reduce re-implementation, for pickling.\n",
      " |  \n",
      " |  __setstate__(...)\n",
      " |      Setstate re-implementation, for unpickling.\n",
      " |  \n",
      " |  apply(...)\n",
      " |      Finds the terminal region (=leaf node) for each sample in X.\n",
      " |  \n",
      " |  compute_feature_importances(...)\n",
      " |      Computes the importance of each feature (aka variable).\n",
      " |  \n",
      " |  compute_partial_dependence(...)\n",
      " |      Partial dependence of the response on the ``target_feature`` set.\n",
      " |      \n",
      " |      For each sample in ``X`` a tree traversal is performed.\n",
      " |      Each traversal starts from the root with weight 1.0.\n",
      " |      \n",
      " |      At each non-leaf node that splits on a target feature, either\n",
      " |      the left child or the right child is visited based on the feature\n",
      " |      value of the current sample, and the weight is not modified.\n",
      " |      At each non-leaf node that splits on a complementary feature,\n",
      " |      both children are visited and the weight is multiplied by the fraction\n",
      " |      of training samples which went to each child.\n",
      " |      \n",
      " |      At each leaf, the value of the node is multiplied by the current\n",
      " |      weight (weights sum to 1 for all visited terminal nodes).\n",
      " |      \n",
      " |      Parameters\n",
      " |      ----------\n",
      " |      X : view on 2d ndarray, shape (n_samples, n_target_features)\n",
      " |          The grid points on which the partial dependence should be\n",
      " |          evaluated.\n",
      " |      target_features : view on 1d ndarray, shape (n_target_features)\n",
      " |          The set of target features for which the partial dependence\n",
      " |          should be evaluated.\n",
      " |      out : view on 1d ndarray, shape (n_samples)\n",
      " |          The value of the partial dependence function on each grid\n",
      " |          point.\n",
      " |  \n",
      " |  decision_path(...)\n",
      " |      Finds the decision path (=node) for each sample in X.\n",
      " |  \n",
      " |  predict(...)\n",
      " |      Predict target for X.\n",
      " |  \n",
      " |  ----------------------------------------------------------------------\n",
      " |  Static methods defined here:\n",
      " |  \n",
      " |  __new__(*args, **kwargs) from builtins.type\n",
      " |      Create and return a new object.  See help(type) for accurate signature.\n",
      " |  \n",
      " |  ----------------------------------------------------------------------\n",
      " |  Data descriptors defined here:\n",
      " |  \n",
      " |  capacity\n",
      " |  \n",
      " |  children_left\n",
      " |  \n",
      " |  children_right\n",
      " |  \n",
      " |  feature\n",
      " |  \n",
      " |  impurity\n",
      " |  \n",
      " |  max_depth\n",
      " |  \n",
      " |  max_n_classes\n",
      " |  \n",
      " |  n_classes\n",
      " |  \n",
      " |  n_features\n",
      " |  \n",
      " |  n_leaves\n",
      " |  \n",
      " |  n_node_samples\n",
      " |  \n",
      " |  n_outputs\n",
      " |  \n",
      " |  node_count\n",
      " |  \n",
      " |  threshold\n",
      " |  \n",
      " |  value\n",
      " |  \n",
      " |  weighted_n_node_samples\n",
      " |  \n",
      " |  ----------------------------------------------------------------------\n",
      " |  Data and other attributes defined here:\n",
      " |  \n",
      " |  __pyx_vtable__ = <capsule object NULL>\n",
      "\n"
     ]
    }
   ],
   "source": [
    "import sklearn\n",
    "help(sklearn.tree._tree.Tree)"
   ]
  },
  {
   "cell_type": "code",
   "execution_count": 7,
   "metadata": {},
   "outputs": [],
   "source": [
    "tree = gbr.estimators_[0,0].tree_\n"
   ]
  },
  {
   "cell_type": "code",
   "execution_count": 8,
   "metadata": {},
   "outputs": [],
   "source": [
    "tree = gbr.estimators_[0,0].tree_"
   ]
  },
  {
   "cell_type": "code",
   "execution_count": 9,
   "metadata": {},
   "outputs": [],
   "source": [
    "from copy import deepcopy"
   ]
  },
  {
   "cell_type": "code",
   "execution_count": 10,
   "metadata": {},
   "outputs": [
    {
     "data": {
      "text/plain": [
       "sqft_living      1180\n",
       "sqft_lot         5650\n",
       "sqft_above       1180\n",
       "sqft_basement       0\n",
       "sqft_living15    1340\n",
       "sqft_lot15       5650\n",
       "Name: 0, dtype: int64"
      ]
     },
     "execution_count": 10,
     "metadata": {},
     "output_type": "execute_result"
    }
   ],
   "source": [
    "X_sample = X.iloc[0]\n",
    "X_sample"
   ]
  },
  {
   "cell_type": "code",
   "execution_count": 11,
   "metadata": {},
   "outputs": [
    {
     "data": {
      "text/plain": [
       "array([ 0,  0,  0, -2, -2,  4, -2, -2,  0,  0, -2, -2,  0, -2, -2],\n",
       "      dtype=int64)"
      ]
     },
     "execution_count": 11,
     "metadata": {},
     "output_type": "execute_result"
    }
   ],
   "source": [
    "tree.feature"
   ]
  },
  {
   "cell_type": "code",
   "execution_count": 12,
   "metadata": {},
   "outputs": [
    {
     "data": {
      "text/plain": [
       "array([ 3.4060e+03,  2.2595e+03,  1.5290e+03, -2.0000e+00, -2.0000e+00,\n",
       "        2.8550e+03, -2.0000e+00, -2.0000e+00,  4.7550e+03,  4.0625e+03,\n",
       "       -2.0000e+00, -2.0000e+00,  7.9400e+03, -2.0000e+00, -2.0000e+00])"
      ]
     },
     "execution_count": 12,
     "metadata": {},
     "output_type": "execute_result"
    }
   ],
   "source": [
    "tree.threshold"
   ]
  },
  {
   "cell_type": "code",
   "execution_count": 13,
   "metadata": {},
   "outputs": [
    {
     "data": {
      "text/plain": [
       "array([[[-1.47999839e-09]],\n",
       "\n",
       "       [[-6.10828458e+04]],\n",
       "\n",
       "       [[-1.34412441e+05]],\n",
       "\n",
       "       [[-1.91935984e+05]],\n",
       "\n",
       "       [[-8.40043399e+04]],\n",
       "\n",
       "       [[ 1.16067214e+05]],\n",
       "\n",
       "       [[ 7.46733480e+04]],\n",
       "\n",
       "       [[ 2.81749637e+05]],\n",
       "\n",
       "       [[ 6.83101792e+05]],\n",
       "\n",
       "       [[ 5.52206432e+05]],\n",
       "\n",
       "       [[ 4.52079996e+05]],\n",
       "\n",
       "       [[ 7.87092838e+05]],\n",
       "\n",
       "       [[ 1.42846442e+06]],\n",
       "\n",
       "       [[ 1.30639080e+06]],\n",
       "\n",
       "       [[ 4.54134186e+06]]])"
      ]
     },
     "execution_count": 13,
     "metadata": {},
     "output_type": "execute_result"
    }
   ],
   "source": [
    "tree.value"
   ]
  },
  {
   "cell_type": "code",
   "execution_count": 72,
   "metadata": {},
   "outputs": [],
   "source": [
    "# do this just for regression to start\n",
    "\n",
    "##### HOW TO GENERATE LOGICAL REPRESENTATIONS\n",
    "\n",
    "### Leaf encoding\n",
    "# run a DFS on the tree, store nodes in a stack\n",
    "\n",
    "# when you reach a leaf, write the logical statements for \n",
    "# pi(l) which is stack[1:] n wl where wl is the weight value of the leaf\n",
    "\n",
    "# DFS\n",
    "def dfs(tree, tree_num=0, X_input=None, epsilon=160, verbose=False):\n",
    "    paths = []\n",
    "    pi_l = []  # this will be a list of lists of every pi_l ie: ['xi_1 <= 1000', 'xi_2 > 6000'..., wl]\n",
    "    stack=[0]  # initialize stack for tree\n",
    "    pi_l_stack=[]  # a stack for holding pi_l definitions based on position in tree\n",
    "    n_nodes = tree.node_count\n",
    "    threshold = tree.threshold \n",
    "    feature = tree.feature\n",
    "    left_searched = [False for _ in range(n_nodes)]\n",
    "    right_searched = [False for _ in range(n_nodes)]\n",
    "    children_left = tree.children_left\n",
    "    children_right = tree.children_right\n",
    "    values = tree.value  # I think these are the average value (or something) of a node based on training data\n",
    "\n",
    "    while True:\n",
    "        this_node = stack[-1]\n",
    "        this_threshold = threshold[this_node]\n",
    "        this_feature = feature[this_node]\n",
    "\n",
    "        searched_left_already = left_searched[this_node]\n",
    "        searched_right_already = right_searched[this_node]\n",
    "        \n",
    "        # define tree pruning\n",
    "        \n",
    "        if children_left[this_node] == -1:  # if leaf node we dont do pruning even if a threshold is defined\n",
    "            pass  # no pruning\n",
    "        elif X_input is not None:\n",
    "            lower_bound = X_input.iloc[this_feature]-epsilon\n",
    "            upper_bound = X_input.iloc[this_feature]+epsilon\n",
    "            if lower_bound <= this_threshold <= upper_bound:\n",
    "                pass  # no pruning because threshold within boundary, permissiable values on either side of threshold\n",
    "            elif this_threshold < lower_bound:\n",
    "                left_searched[this_node]=True  # prune left side because no possible value for this allowable input range will go down left side\n",
    "            elif upper_bound < this_threshold:\n",
    "                right_searched[this_node]=True # prune right side because no possible value for this allowable input range will go down right side\n",
    "        \n",
    "        # check if we need to search any more nodes at this level or go up previous one\n",
    "        if searched_left_already and searched_right_already and this_node==0:\n",
    "            break  # special condition from pruning where we have returned to the root of the tree after searching everything else\n",
    "        elif searched_left_already and searched_right_already:\n",
    "            stack.pop(-1)  # pop the last node off of the stack so we go one level up on the next run\n",
    "            pi_l_stack.pop(-1)\n",
    "            continue\n",
    "        \n",
    "        if not searched_left_already:  # search the left_child\n",
    "            child = children_left[this_node]\n",
    "            this_op = f'x_{this_feature}_i <= {this_threshold}'  # I wasn't sure exactly how these should be defined\n",
    "            left_searched[this_node]=True\n",
    "        else:  # search the right child\n",
    "            child = children_right[this_node]\n",
    "            this_op = f'x_{this_feature}_i > {this_threshold}'\n",
    "            right_searched[this_node]=True\n",
    "\n",
    "        if child==-1:  # at leaf\n",
    "            # append path to this node + the value of this node\n",
    "            this_path = deepcopy(stack[1:])+[deepcopy(values[this_node][0,0])]\n",
    "            this_pi_l = deepcopy(pi_l_stack[:])+[f'wl_{tree_num}=='+deepcopy(str(values[this_node][0,0]))]\n",
    "            paths.append(this_path)\n",
    "            pi_l.append(this_pi_l)\n",
    "            result='And('+', '.join(this_pi_l)+')'\n",
    "            if verbose:\n",
    "                print(this_path, result)\n",
    "\n",
    "            if this_node == n_nodes-1:\n",
    "                break  # we have searched all paths and can break\n",
    "            stack.pop(-1)  # pop the last node off of the stack so we go one level up on the next run\n",
    "            pi_l_stack.pop(-1)\n",
    "        else:  # not at leaf\n",
    "            # append the child to the stack and continue search\n",
    "            stack.append(child)     \n",
    "            pi_l_stack.append(this_op)\n",
    "            \n",
    "    return pi_l\n",
    "\n",
    "# pruning: using an input x_i', compare the difference at every node in the DFS x_i\n",
    "# if |x_i-x_i'| < epsilon where epsilon is the predefined robustness factor\n",
    "# then keep node, otherwise pop current node from the stack and \n",
    "# stop searching this branch of the tree (return to previous level)\n",
    "\n",
    "### Tree encoding\n",
    "# then represent PI(D) as V(pi(l)) a disjunction of all pi(l) found during DFS\n",
    "\n",
    "### GBM encoding\n",
    "# lastly encode the full model instelf, (n(PI(D_i))) n (out=sum(wl_i))\n",
    "# I haven't fulling figured out how to represent the out=sum(wl_i) part yet.\n",
    "# wl_i should be the one value returned from each tree PI(D_i), we might just \n",
    "# need the additional predicate D_i(x)=wl_i meaning that putting x into the decision tree returns wl_i\n",
    "# but I'm not totally sure how this is expressed for Z3\n",
    "\n",
    "# gamma_R is the model encoding and referenced in the paper\n",
    "def get_gamma_R(gbr_model, X_input, delta=100000):\n",
    "    all_pi_l = []\n",
    "    for t in range(len(gbr_model.estimators_)):\n",
    "        tree = gbr_model.estimators_[t,0].tree_\n",
    "        this_pi_l = dfs(tree, tree_num=t, X_input=X_input)\n",
    "        all_pi_l.append(this_pi_l)\n",
    "        \n",
    "    all_PI_Ds = []\n",
    "    for r in range(len(all_pi_l)):\n",
    "        this_PI_D = all_pi_l[r]\n",
    "        PI_D = '\\tOr(\\n\\t\\t'+',\\n\\t\\t'.join(['And('+', '.join(this_pi_l)+')' for this_pi_l in this_PI_D])+'\\n\\t)'\n",
    "        all_PI_Ds.append(PI_D)\n",
    "\n",
    "        # print('\\nTree Representation PI(D):\\n',PI_D,sep='')\n",
    "\n",
    "        \n",
    "    out = 'out=='+'+'.join([f'wl_{t}' for t in range(len(all_pi_l))])\n",
    "    input_regression_value = gbr.predict(np.array(X_sample).reshape(1,-1))[0]   # This is R(x)\n",
    "    output_robustness1 = f'{input_regression_value+delta} < out'\n",
    "    output_robustness2 = f'out < {input_regression_value-delta}'  # these two lines will ensure that all out values are OUTSIDE delta of the input regression value, so that if there is a counter-example then it will be found\n",
    "    output_robustness = f'Or({output_robustness2}, {output_robustness1})'\n",
    "    gamma_R = ',\\n'.join(all_PI_Ds)\n",
    "    gamma_R = 'And(\\n\\t'+output_robustness+',\\n\\t'+out+',\\n'+gamma_R+'\\n)'\n",
    "\n",
    "    # print(out)\n",
    "    print(gamma_R)\n",
    "    return gamma_R\n",
    "\n",
    "# out='wl_1+wl_2+...'\n",
    "\n",
    "### Robust property encoding\n",
    "# see section 5 of the paper this is easier than the previous stuff but it \n",
    "# again has stuff like R(x) that I need to read the documentation on how to define\n",
    "\n",
    "\n"
   ]
  },
  {
   "cell_type": "code",
   "execution_count": 73,
   "metadata": {},
   "outputs": [],
   "source": [
    "# gbr.predict(np.array(X_sample).reshape(1,-1))[0]"
   ]
  },
  {
   "cell_type": "code",
   "execution_count": 74,
   "metadata": {},
   "outputs": [
    {
     "name": "stdout",
     "output_type": "stream",
     "text": [
      "And(\n",
      "\tOr(out < 259286.9874729283, 459286.9874729283 < out),\n",
      "\tout==wl_0+wl_1+wl_2+wl_3+wl_4+wl_5+wl_6+wl_7+wl_8+wl_9+wl_10+wl_11+wl_12+wl_13+wl_14+wl_15+wl_16+wl_17+wl_18+wl_19+wl_20+wl_21+wl_22+wl_23+wl_24+wl_25+wl_26+wl_27+wl_28+wl_29+wl_30+wl_31+wl_32+wl_33+wl_34+wl_35+wl_36+wl_37+wl_38+wl_39+wl_40+wl_41+wl_42+wl_43+wl_44+wl_45+wl_46+wl_47+wl_48+wl_49,\n",
      "\tOr(\n",
      "\t\tAnd(x_0_i <= 3406.0, x_0_i <= 2259.5, x_0_i <= 1529.0, wl_0==-191935.9836710138)\n",
      "\t),\n",
      "\tOr(\n",
      "\t\tAnd(x_0_i <= 2847.5, x_0_i <= 2009.5, x_5_i <= 6023.5, wl_1==-85095.66278383158)\n",
      "\t),\n",
      "\tOr(\n",
      "\t\tAnd(x_0_i <= 3062.0, x_0_i <= 2039.0, x_5_i <= 5946.0, wl_2==-72791.83049486861)\n",
      "\t),\n",
      "\tOr(\n",
      "\t\tAnd(x_0_i <= 2847.5, x_0_i <= 1873.0, x_5_i <= 5104.0, wl_3==-67345.64177091594),\n",
      "\t\tAnd(x_0_i <= 2847.5, x_0_i <= 1873.0, x_5_i > 5104.0, wl_3==-147948.49091053667)\n",
      "\t),\n",
      "\tOr(\n",
      "\t\tAnd(x_0_i <= 3278.0, x_0_i <= 2329.5, x_0_i <= 1452.0, wl_4==-141374.59889861217)\n",
      "\t),\n",
      "\tOr(\n",
      "\t\tAnd(x_0_i <= 2829.0, x_4_i <= 2009.5, x_5_i <= 6023.5, wl_5==-32631.769203605298)\n",
      "\t),\n",
      "\tOr(\n",
      "\t\tAnd(x_0_i <= 3406.0, x_0_i <= 2158.0, x_4_i <= 1609.0, wl_6==-114949.85538631139)\n",
      "\t),\n",
      "\tOr(\n",
      "\t\tAnd(x_0_i <= 3062.0, x_0_i <= 1985.0, x_0_i <= 1205.0, wl_7==-133311.9841143272),\n",
      "\t\tAnd(x_0_i <= 3062.0, x_0_i <= 1985.0, x_0_i > 1205.0, wl_7==-57294.705446698004)\n",
      "\t),\n",
      "\tOr(\n",
      "\t\tAnd(x_0_i <= 2829.0, x_0_i <= 1610.5, x_4_i <= 1275.0, wl_8==-141684.64827740073),\n",
      "\t\tAnd(x_0_i <= 2829.0, x_0_i <= 1610.5, x_4_i > 1275.0, wl_8==-70159.33740208227)\n",
      "\t),\n",
      "\tOr(\n",
      "\t\tAnd(x_0_i <= 3278.0, x_4_i <= 2279.5, x_5_i <= 6388.5, wl_9==-3994.191871347624)\n",
      "\t),\n",
      "\tOr(\n",
      "\t\tAnd(x_4_i <= 2916.0, x_0_i <= 2438.5, x_4_i <= 1609.0, wl_10==-81405.13978668033)\n",
      "\t),\n",
      "\tOr(\n",
      "\t\tAnd(x_0_i <= 3635.0, x_0_i <= 2438.5, x_0_i <= 1402.5, wl_11==-82464.24881951105)\n",
      "\t),\n",
      "\tOr(\n",
      "\t\tAnd(x_4_i <= 2865.0, x_0_i <= 2438.5, x_5_i <= 5103.5, wl_12==4277.088810686574),\n",
      "\t\tAnd(x_4_i <= 2865.0, x_0_i <= 2438.5, x_5_i > 5103.5, wl_12==-59514.69800870803)\n",
      "\t),\n",
      "\tOr(\n",
      "\t\tAnd(x_4_i <= 2916.0, x_0_i <= 1831.5, x_5_i <= 5128.0, wl_13==-14782.906683131207),\n",
      "\t\tAnd(x_4_i <= 2916.0, x_0_i <= 1831.5, x_5_i > 5128.0, wl_13==-69374.59756167687)\n",
      "\t),\n",
      "\tOr(\n",
      "\t\tAnd(x_0_i <= 3635.0, x_4_i <= 2259.0, x_5_i <= 6388.5, wl_14==7089.829067999385)\n",
      "\t),\n",
      "\tOr(\n",
      "\t\tAnd(x_0_i <= 3406.0, x_4_i <= 1698.0, x_5_i <= 5193.0, wl_15==-6932.606559074878),\n",
      "\t\tAnd(x_0_i <= 3406.0, x_4_i <= 1698.0, x_5_i > 5193.0, wl_15==-74584.5285292812)\n",
      "\t),\n",
      "\tOr(\n",
      "\t\tAnd(x_0_i <= 2600.5, x_4_i <= 1439.5, x_0_i <= 1104.0, wl_16==-102744.70753700616),\n",
      "\t\tAnd(x_0_i <= 2600.5, x_4_i <= 1439.5, x_0_i > 1104.0, wl_16==-45780.14317552833),\n",
      "\t\tAnd(x_0_i <= 2600.5, x_4_i > 1439.5, x_5_i <= 6403.5, wl_16==19622.04513776753)\n",
      "\t),\n",
      "\tOr(\n",
      "\t\tAnd(x_4_i <= 2821.0, x_0_i <= 1509.5, x_4_i <= 1205.0, wl_17==-95745.26309059236),\n",
      "\t\tAnd(x_4_i <= 2821.0, x_0_i <= 1509.5, x_4_i > 1205.0, wl_17==-36800.04512099781)\n",
      "\t),\n",
      "\tOr(\n",
      "\t\tAnd(x_0_i <= 3885.0, x_4_i <= 1873.0, x_5_i <= 6593.0, wl_18==2.349117526774899)\n",
      "\t),\n",
      "\tOr(\n",
      "\t\tAnd(x_0_i <= 2600.5, x_0_i <= 1109.0, x_4_i <= 1161.0, wl_19==-102177.96525298989),\n",
      "\t\tAnd(x_0_i <= 2600.5, x_0_i <= 1109.0, x_4_i > 1161.0, wl_19==-53899.25055125807),\n",
      "\t\tAnd(x_0_i <= 2600.5, x_0_i > 1109.0, x_4_i <= 2489.0, wl_19==-16751.22553118811)\n",
      "\t),\n",
      "\tOr(\n",
      "\t\tAnd(x_4_i <= 2916.0, x_3_i <= 95.0, x_2_i <= 1205.0, wl_20==-60725.09607163185),\n",
      "\t\tAnd(x_4_i <= 2916.0, x_3_i <= 95.0, x_2_i > 1205.0, wl_20==-17134.758252503063),\n",
      "\t\tAnd(x_4_i <= 2916.0, x_3_i > 95.0, x_5_i <= 7012.5, wl_20==70102.45203922052)\n",
      "\t),\n",
      "\tOr(\n",
      "\t\tAnd(x_0_i <= 2600.5, x_4_i <= 1439.5, x_4_i <= 1079.0, wl_21==-89624.51107553755),\n",
      "\t\tAnd(x_0_i <= 2600.5, x_4_i <= 1439.5, x_4_i > 1079.0, wl_21==-37653.8392326192),\n",
      "\t\tAnd(x_0_i <= 2600.5, x_4_i > 1439.5, x_1_i <= 6001.0, wl_21==17811.404064812104)\n",
      "\t),\n",
      "\tOr(\n",
      "\t\tAnd(x_4_i <= 2656.5, x_5_i <= 6403.5, x_3_i <= 95.0, wl_22==-25584.415305671962),\n",
      "\t\tAnd(x_4_i <= 2656.5, x_5_i <= 6403.5, x_3_i > 95.0, wl_22==60292.90462860068)\n",
      "\t),\n",
      "\tOr(\n",
      "\t\tAnd(x_0_i <= 3885.0, x_4_i <= 3720.5, x_3_i <= 45.0, wl_23==-20471.710150507224),\n",
      "\t\tAnd(x_0_i <= 3885.0, x_4_i <= 3720.5, x_3_i > 45.0, wl_23==14656.45391823128)\n",
      "\t),\n",
      "\tOr(\n",
      "\t\tAnd(x_4_i <= 2495.5, x_5_i <= 6403.5, x_3_i <= 95.0, wl_24==-18509.18042482565),\n",
      "\t\tAnd(x_4_i <= 2495.5, x_5_i <= 6403.5, x_3_i > 95.0, wl_24==49752.6058231437)\n",
      "\t),\n",
      "\tOr(\n",
      "\t\tAnd(x_4_i <= 3385.0, x_2_i <= 3895.0, x_4_i <= 1493.0, wl_25==-32095.673363596987),\n",
      "\t\tAnd(x_4_i <= 3385.0, x_2_i <= 3895.0, x_4_i > 1493.0, wl_25==2800.343483628554)\n",
      "\t),\n",
      "\tOr(\n",
      "\t\tAnd(x_4_i <= 2239.0, x_5_i <= 6024.0, x_0_i <= 2342.0, wl_26==-623.2298541646825)\n",
      "\t),\n",
      "\tOr(\n",
      "\t\tAnd(x_4_i <= 3385.0, x_2_i <= 3895.0, x_4_i <= 1273.5, wl_27==-43206.50428199156),\n",
      "\t\tAnd(x_4_i <= 3385.0, x_2_i <= 3895.0, x_4_i > 1273.5, wl_27==-759.0657312041558)\n",
      "\t),\n",
      "\tOr(\n",
      "\t\tAnd(x_0_i <= 2579.0, x_0_i <= 906.0, x_2_i <= 695.0, wl_28==-96381.1567932709),\n",
      "\t\tAnd(x_0_i <= 2579.0, x_0_i <= 906.0, x_2_i > 695.0, wl_28==-56479.040793204054),\n",
      "\t\tAnd(x_0_i <= 2579.0, x_0_i > 906.0, x_5_i <= 5000.5, wl_28==13092.564343882204),\n",
      "\t\tAnd(x_0_i <= 2579.0, x_0_i > 906.0, x_5_i > 5000.5, wl_28==-14154.610874991366)\n",
      "\t),\n",
      "\tOr(\n",
      "\t\tAnd(x_4_i <= 2285.0, x_5_i <= 7206.5, x_0_i <= 2342.0, wl_29==-2384.244604919393)\n",
      "\t),\n",
      "\tOr(\n",
      "\t\tAnd(x_0_i <= 6180.0, x_4_i <= 1679.0, x_5_i <= 5109.5, wl_30==-503.57780671853016),\n",
      "\t\tAnd(x_0_i <= 6180.0, x_4_i <= 1679.0, x_5_i > 5109.5, wl_30==-29396.34075180975)\n",
      "\t),\n",
      "\tOr(\n",
      "\t\tAnd(x_4_i <= 3385.0, x_2_i <= 3895.0, x_3_i <= 2025.0, wl_31==-4155.364939062536)\n",
      "\t),\n",
      "\tOr(\n",
      "\t\tAnd(x_2_i <= 1413.5, x_4_i <= 1161.0, x_4_i <= 985.0, wl_32==-78499.80930366278),\n",
      "\t\tAnd(x_2_i <= 1413.5, x_4_i <= 1161.0, x_4_i > 985.0, wl_32==-41786.397422019356),\n",
      "\t\tAnd(x_2_i <= 1413.5, x_4_i > 1161.0, x_1_i <= 7201.5, wl_32==5380.514903865938)\n",
      "\t),\n",
      "\tOr(\n",
      "\t\tAnd(x_0_i <= 5005.0, x_2_i <= 1413.5, x_0_i <= 875.0, wl_33==-55426.73813375389),\n",
      "\t\tAnd(x_0_i <= 5005.0, x_2_i <= 1413.5, x_0_i > 875.0, wl_33==-11067.883582651817)\n",
      "\t),\n",
      "\tOr(\n",
      "\t\tAnd(x_4_i <= 3385.0, x_2_i <= 3895.0, x_5_i <= 5000.5, wl_34==14995.603730177632),\n",
      "\t\tAnd(x_4_i <= 3385.0, x_2_i <= 3895.0, x_5_i > 5000.5, wl_34==-10127.782658960818)\n",
      "\t),\n",
      "\tOr(\n",
      "\t\tAnd(x_4_i <= 1866.0, x_5_i <= 7108.5, x_2_i <= 1831.5, wl_35==-5160.504118155871)\n",
      "\t),\n",
      "\tOr(\n",
      "\t\tAnd(x_2_i <= 6320.0, x_4_i <= 1461.5, x_0_i <= 3911.0, wl_36==-18832.88685906499),\n",
      "\t\tAnd(x_2_i <= 6320.0, x_4_i > 1461.5, x_5_i <= 28708.5, wl_36==8861.896654028698)\n",
      "\t),\n",
      "\tOr(\n",
      "\t\tAnd(x_0_i <= 6635.0, x_4_i <= 2239.0, x_3_i <= 1485.0, wl_37==-5942.950380871698)\n",
      "\t),\n",
      "\tOr(\n",
      "\t\tAnd(x_4_i <= 3385.0, x_2_i <= 3895.0, x_3_i <= 2025.0, wl_38==-2845.010130083327)\n",
      "\t),\n",
      "\tOr(\n",
      "\t\tAnd(x_2_i <= 5401.5, x_4_i <= 1153.0, x_5_i <= 6008.0, wl_39==-54398.2516377819),\n",
      "\t\tAnd(x_2_i <= 5401.5, x_4_i > 1153.0, x_5_i <= 5000.5, wl_39==18614.422482900714),\n",
      "\t\tAnd(x_2_i <= 5401.5, x_4_i > 1153.0, x_5_i > 5000.5, wl_39==-3302.5029927365304)\n",
      "\t),\n",
      "\tOr(\n",
      "\t\tAnd(x_4_i <= 2865.0, x_3_i <= 1165.0, x_0_i <= 2747.0, wl_40==-4181.9113867313445)\n",
      "\t),\n",
      "\tOr(\n",
      "\t\tAnd(x_3_i <= 95.0, x_5_i <= 9943.5, x_4_i <= 2361.5, wl_41==-9824.80906992087),\n",
      "\t\tAnd(x_3_i > 95.0, x_2_i <= 1815.0, x_1_i <= 6609.5, wl_41==20446.997654215465)\n",
      "\t),\n",
      "\tOr(\n",
      "\t\tAnd(x_2_i <= 847.0, x_2_i <= 685.0, x_4_i <= 3020.5, wl_42==-70167.73853492983),\n",
      "\t\tAnd(x_2_i <= 847.0, x_2_i > 685.0, x_0_i <= 1125.0, wl_42==-41164.40343055262),\n",
      "\t\tAnd(x_2_i <= 847.0, x_2_i > 685.0, x_0_i > 1125.0, wl_42==-4669.656605145641),\n",
      "\t\tAnd(x_2_i > 847.0, x_2_i <= 6320.0, x_5_i <= 5000.5, wl_42==16213.80057477044),\n",
      "\t\tAnd(x_2_i > 847.0, x_2_i <= 6320.0, x_5_i > 5000.5, wl_42==-2628.9032048927397)\n",
      "\t),\n",
      "\tOr(\n",
      "\t\tAnd(x_4_i <= 1679.0, x_2_i <= 1809.0, x_4_i <= 1079.0, wl_43==-41881.50628382174),\n",
      "\t\tAnd(x_4_i <= 1679.0, x_2_i <= 1809.0, x_4_i > 1079.0, wl_43==-10724.039961882116)\n",
      "\t),\n",
      "\tOr(\n",
      "\t\tAnd(x_0_i <= 6635.0, x_0_i <= 6556.5, x_2_i <= 815.0, wl_44==-38246.493615888954),\n",
      "\t\tAnd(x_0_i <= 6635.0, x_0_i <= 6556.5, x_2_i > 815.0, wl_44==1239.6220507034698)\n",
      "\t),\n",
      "\tOr(\n",
      "\t\tAnd(x_3_i <= 75.0, x_5_i <= 9943.5, x_4_i <= 2051.0, wl_45==-6028.178520653709),\n",
      "\t\tAnd(x_3_i > 75.0, x_2_i <= 1785.0, x_5_i <= 7206.5, wl_45==15209.820680979197)\n",
      "\t),\n",
      "\tOr(\n",
      "\t\tAnd(x_0_i <= 5015.0, x_0_i <= 4865.0, x_0_i <= 4825.0, wl_46==-630.9158990787569)\n",
      "\t),\n",
      "\tOr(\n",
      "\t\tAnd(x_4_i <= 1461.5, x_2_i <= 3430.0, x_3_i <= 995.0, wl_47==-10899.858786582125),\n",
      "\t\tAnd(x_4_i > 1461.5, x_1_i <= 4105.5, x_0_i <= 2900.0, wl_47==20649.8225672581),\n",
      "\t\tAnd(x_4_i > 1461.5, x_1_i > 4105.5, x_2_i <= 6320.0, wl_47==417.9534860732707)\n",
      "\t),\n",
      "\tOr(\n",
      "\t\tAnd(x_3_i <= 95.0, x_0_i <= 7950.0, x_5_i <= 9943.5, wl_48==-12287.283736877473),\n",
      "\t\tAnd(x_3_i > 95.0, x_2_i <= 1815.0, x_1_i <= 6609.5, wl_48==17176.888913508046)\n",
      "\t),\n",
      "\tOr(\n",
      "\t\tAnd(x_0_i <= 6635.0, x_0_i <= 6556.5, x_3_i <= 2025.0, wl_49==142.6657881501582)\n",
      "\t)\n",
      ")\n"
     ]
    }
   ],
   "source": [
    "model_expression = get_gamma_R(gbr, X_input=X_sample)"
   ]
  },
  {
   "cell_type": "code",
   "execution_count": 75,
   "metadata": {},
   "outputs": [
    {
     "ename": "NameError",
     "evalue": "name 'out' is not defined",
     "output_type": "error",
     "traceback": [
      "\u001b[1;31m---------------------------------------------------------------------------\u001b[0m",
      "\u001b[1;31mNameError\u001b[0m                                 Traceback (most recent call last)",
      "\u001b[1;32m<ipython-input-75-20ee571a2181>\u001b[0m in \u001b[0;36m<module>\u001b[1;34m\u001b[0m\n\u001b[0;32m      4\u001b[0m        \u001b[0mmodel_expression\u001b[0m\u001b[1;33m\u001b[0m\u001b[1;33m\u001b[0m\u001b[0m\n\u001b[0;32m      5\u001b[0m       )\n\u001b[1;32m----> 6\u001b[1;33m \u001b[0mgamma_\u001b[0m \u001b[1;33m=\u001b[0m \u001b[0meval\u001b[0m\u001b[1;33m(\u001b[0m\u001b[0mmodel_expression\u001b[0m\u001b[1;33m)\u001b[0m\u001b[1;33m\u001b[0m\u001b[1;33m\u001b[0m\u001b[0m\n\u001b[0m",
      "\u001b[1;32m<string>\u001b[0m in \u001b[0;36m<module>\u001b[1;34m\u001b[0m\n",
      "\u001b[1;31mNameError\u001b[0m: name 'out' is not defined"
     ]
    }
   ],
   "source": [
    "import re\n",
    "model_expression = re.sub(\"\\s+\", # one or more repetition of whitespace\n",
    "       '', # replace with empty string (->remove)\n",
    "       model_expression\n",
    "      )\n",
    "gamma_ = eval(model_expression)"
   ]
  },
  {
   "cell_type": "code",
   "execution_count": 107,
   "metadata": {},
   "outputs": [],
   "source": [
    "# print(X_sample)\n",
    "# print(tree.feature)\n",
    "# print(tree.threshold)"
   ]
  },
  {
   "cell_type": "code",
   "execution_count": 14,
   "metadata": {},
   "outputs": [
    {
     "data": {
      "text/plain": [
       "-84004.33994787265"
      ]
     },
     "execution_count": 14,
     "metadata": {},
     "output_type": "execute_result"
    }
   ],
   "source": [
    "tree.value[4][0,0]"
   ]
  },
  {
   "cell_type": "code",
   "execution_count": 15,
   "metadata": {},
   "outputs": [
    {
     "data": {
      "text/plain": [
       "array([ 1,  2,  3, -1, -1,  6, -1, -1,  9, 10, -1, -1, 13, -1, -1],\n",
       "      dtype=int64)"
      ]
     },
     "execution_count": 15,
     "metadata": {},
     "output_type": "execute_result"
    }
   ],
   "source": [
    "tree.children_left\n"
   ]
  },
  {
   "cell_type": "code",
   "execution_count": 16,
   "metadata": {},
   "outputs": [
    {
     "data": {
      "text/plain": [
       "array([ 8,  5,  4, -1, -1,  7, -1, -1, 12, 11, -1, -1, 14, -1, -1],\n",
       "      dtype=int64)"
      ]
     },
     "execution_count": 16,
     "metadata": {},
     "output_type": "execute_result"
    }
   ],
   "source": [
    "tree.children_right\n"
   ]
  },
  {
   "cell_type": "code",
   "execution_count": 17,
   "metadata": {},
   "outputs": [
    {
     "data": {
      "text/plain": [
       "<sklearn.tree._tree.Tree at 0x20e002c59d0>"
      ]
     },
     "execution_count": 17,
     "metadata": {},
     "output_type": "execute_result"
    }
   ],
   "source": [
    "tree"
   ]
  },
  {
   "cell_type": "code",
   "execution_count": 53,
   "metadata": {},
   "outputs": [
    {
     "data": {
      "text/plain": [
       "9"
      ]
     },
     "execution_count": 53,
     "metadata": {},
     "output_type": "execute_result"
    }
   ],
   "source": [
    "import re\n",
    "exec('res='+re.sub('\\s', '','4+\\n\\t\\t5'))\n",
    "res"
   ]
  },
  {
   "cell_type": "code",
   "execution_count": null,
   "metadata": {},
   "outputs": [],
   "source": []
  }
 ],
 "metadata": {
  "kernelspec": {
   "display_name": "Python 3",
   "language": "python",
   "name": "python3"
  },
  "language_info": {
   "codemirror_mode": {
    "name": "ipython",
    "version": 3
   },
   "file_extension": ".py",
   "mimetype": "text/x-python",
   "name": "python",
   "nbconvert_exporter": "python",
   "pygments_lexer": "ipython3",
   "version": "3.8.3"
  }
 },
 "nbformat": 4,
 "nbformat_minor": 4
}
