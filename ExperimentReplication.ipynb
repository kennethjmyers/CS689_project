{
 "cells": [
  {
   "cell_type": "code",
   "execution_count": 1,
   "metadata": {},
   "outputs": [
    {
     "name": "stdout",
     "output_type": "stream",
     "text": [
      "sat\n",
      "[y = 4, x = 2]\n"
     ]
    }
   ],
   "source": [
    "from z3 import *\n",
    "\n",
    "x = Real('x')\n",
    "y = Real('y')\n",
    "s = Solver()\n",
    "s.add(x + y > 5, x > 1, y > 1)\n",
    "print(s.check())\n",
    "print(s.model())"
   ]
  },
  {
   "cell_type": "code",
   "execution_count": 81,
   "metadata": {},
   "outputs": [],
   "source": [
    "# del x,y,z\n",
    "# exec(\"x = Int('x')\")\n",
    "# exec(\"y = Int('y')\")\n",
    "exec(\"x,y,z = Ints('x y z')\")"
   ]
  },
  {
   "cell_type": "code",
   "execution_count": 82,
   "metadata": {},
   "outputs": [
    {
     "name": "stdout",
     "output_type": "stream",
     "text": [
      "And(x == y, Not(x == y))\n",
      "unsat\n"
     ]
    }
   ],
   "source": [
    "# x = Int('x')\n",
    "# y = Int('y')\n",
    "s = \"And(x == y, Not(x == y))\"\n",
    "f2 = eval(s)\n",
    "print(f2)\n",
    "s = Solver()\n",
    "s.add(f2)\n",
    "print(s.check())\n",
    "# print(s.model())"
   ]
  },
  {
   "cell_type": "code",
   "execution_count": 21,
   "metadata": {},
   "outputs": [],
   "source": [
    "import pandas as pd\n",
    "import numpy as np\n",
    "import re\n",
    "pd.set_option('display.max_columns', 500)\n",
    "\n",
    "housing_data = pd.read_csv('./Data/kc_house_data.csv')"
   ]
  },
  {
   "cell_type": "code",
   "execution_count": 3,
   "metadata": {},
   "outputs": [],
   "source": [
    "sqft_cols = [i for i in housing_data.columns if 'sqft' in i]"
   ]
  },
  {
   "cell_type": "code",
   "execution_count": 4,
   "metadata": {},
   "outputs": [
    {
     "data": {
      "text/html": [
       "<div>\n",
       "<style scoped>\n",
       "    .dataframe tbody tr th:only-of-type {\n",
       "        vertical-align: middle;\n",
       "    }\n",
       "\n",
       "    .dataframe tbody tr th {\n",
       "        vertical-align: top;\n",
       "    }\n",
       "\n",
       "    .dataframe thead th {\n",
       "        text-align: right;\n",
       "    }\n",
       "</style>\n",
       "<table border=\"1\" class=\"dataframe\">\n",
       "  <thead>\n",
       "    <tr style=\"text-align: right;\">\n",
       "      <th></th>\n",
       "      <th>sqft_living</th>\n",
       "      <th>sqft_lot</th>\n",
       "      <th>sqft_above</th>\n",
       "      <th>sqft_basement</th>\n",
       "      <th>sqft_living15</th>\n",
       "      <th>sqft_lot15</th>\n",
       "    </tr>\n",
       "  </thead>\n",
       "  <tbody>\n",
       "    <tr>\n",
       "      <th>0</th>\n",
       "      <td>1180</td>\n",
       "      <td>5650</td>\n",
       "      <td>1180</td>\n",
       "      <td>0</td>\n",
       "      <td>1340</td>\n",
       "      <td>5650</td>\n",
       "    </tr>\n",
       "    <tr>\n",
       "      <th>1</th>\n",
       "      <td>2570</td>\n",
       "      <td>7242</td>\n",
       "      <td>2170</td>\n",
       "      <td>400</td>\n",
       "      <td>1690</td>\n",
       "      <td>7639</td>\n",
       "    </tr>\n",
       "    <tr>\n",
       "      <th>2</th>\n",
       "      <td>770</td>\n",
       "      <td>10000</td>\n",
       "      <td>770</td>\n",
       "      <td>0</td>\n",
       "      <td>2720</td>\n",
       "      <td>8062</td>\n",
       "    </tr>\n",
       "    <tr>\n",
       "      <th>3</th>\n",
       "      <td>1960</td>\n",
       "      <td>5000</td>\n",
       "      <td>1050</td>\n",
       "      <td>910</td>\n",
       "      <td>1360</td>\n",
       "      <td>5000</td>\n",
       "    </tr>\n",
       "    <tr>\n",
       "      <th>4</th>\n",
       "      <td>1680</td>\n",
       "      <td>8080</td>\n",
       "      <td>1680</td>\n",
       "      <td>0</td>\n",
       "      <td>1800</td>\n",
       "      <td>7503</td>\n",
       "    </tr>\n",
       "  </tbody>\n",
       "</table>\n",
       "</div>"
      ],
      "text/plain": [
       "   sqft_living  sqft_lot  sqft_above  sqft_basement  sqft_living15  sqft_lot15\n",
       "0         1180      5650        1180              0           1340        5650\n",
       "1         2570      7242        2170            400           1690        7639\n",
       "2          770     10000         770              0           2720        8062\n",
       "3         1960      5000        1050            910           1360        5000\n",
       "4         1680      8080        1680              0           1800        7503"
      ]
     },
     "execution_count": 4,
     "metadata": {},
     "output_type": "execute_result"
    }
   ],
   "source": [
    "X = housing_data[sqft_cols]\n",
    "y = housing_data['price']\n",
    "X.head()"
   ]
  },
  {
   "cell_type": "code",
   "execution_count": 5,
   "metadata": {},
   "outputs": [
    {
     "data": {
      "text/plain": [
       "GradientBoostingRegressor(n_estimators=50)"
      ]
     },
     "execution_count": 5,
     "metadata": {},
     "output_type": "execute_result"
    }
   ],
   "source": [
    "from sklearn.ensemble import GradientBoostingRegressor\n",
    "# from sklearn.experimental import enable_hist_gradient_boosting\n",
    "# from sklearn.ensemble import HistGradientBoostingRegressor\n",
    "\n",
    "gbr = GradientBoostingRegressor(\n",
    "    max_depth=3,\n",
    "    learning_rate=0.1,\n",
    "    n_estimators=50  # number of trees\n",
    ")\n",
    "\n",
    "gbr.fit(X,y)\n"
   ]
  },
  {
   "cell_type": "code",
   "execution_count": 6,
   "metadata": {
    "scrolled": true
   },
   "outputs": [
    {
     "name": "stdout",
     "output_type": "stream",
     "text": [
      "Help on class Tree in module sklearn.tree._tree:\n",
      "\n",
      "class Tree(builtins.object)\n",
      " |  Array-based representation of a binary decision tree.\n",
      " |  \n",
      " |  The binary tree is represented as a number of parallel arrays. The i-th\n",
      " |  element of each array holds information about the node `i`. Node 0 is the\n",
      " |  tree's root. You can find a detailed description of all arrays in\n",
      " |  `_tree.pxd`. NOTE: Some of the arrays only apply to either leaves or split\n",
      " |  nodes, resp. In this case the values of nodes of the other type are\n",
      " |  arbitrary!\n",
      " |  \n",
      " |  Attributes\n",
      " |  ----------\n",
      " |  node_count : int\n",
      " |      The number of nodes (internal nodes + leaves) in the tree.\n",
      " |  \n",
      " |  capacity : int\n",
      " |      The current capacity (i.e., size) of the arrays, which is at least as\n",
      " |      great as `node_count`.\n",
      " |  \n",
      " |  max_depth : int\n",
      " |      The depth of the tree, i.e. the maximum depth of its leaves.\n",
      " |  \n",
      " |  children_left : array of int, shape [node_count]\n",
      " |      children_left[i] holds the node id of the left child of node i.\n",
      " |      For leaves, children_left[i] == TREE_LEAF. Otherwise,\n",
      " |      children_left[i] > i. This child handles the case where\n",
      " |      X[:, feature[i]] <= threshold[i].\n",
      " |  \n",
      " |  children_right : array of int, shape [node_count]\n",
      " |      children_right[i] holds the node id of the right child of node i.\n",
      " |      For leaves, children_right[i] == TREE_LEAF. Otherwise,\n",
      " |      children_right[i] > i. This child handles the case where\n",
      " |      X[:, feature[i]] > threshold[i].\n",
      " |  \n",
      " |  feature : array of int, shape [node_count]\n",
      " |      feature[i] holds the feature to split on, for the internal node i.\n",
      " |  \n",
      " |  threshold : array of double, shape [node_count]\n",
      " |      threshold[i] holds the threshold for the internal node i.\n",
      " |  \n",
      " |  value : array of double, shape [node_count, n_outputs, max_n_classes]\n",
      " |      Contains the constant prediction value of each node.\n",
      " |  \n",
      " |  impurity : array of double, shape [node_count]\n",
      " |      impurity[i] holds the impurity (i.e., the value of the splitting\n",
      " |      criterion) at node i.\n",
      " |  \n",
      " |  n_node_samples : array of int, shape [node_count]\n",
      " |      n_node_samples[i] holds the number of training samples reaching node i.\n",
      " |  \n",
      " |  weighted_n_node_samples : array of int, shape [node_count]\n",
      " |      weighted_n_node_samples[i] holds the weighted number of training samples\n",
      " |      reaching node i.\n",
      " |  \n",
      " |  Methods defined here:\n",
      " |  \n",
      " |  __getstate__(...)\n",
      " |      Getstate re-implementation, for pickling.\n",
      " |  \n",
      " |  __reduce__(...)\n",
      " |      Reduce re-implementation, for pickling.\n",
      " |  \n",
      " |  __setstate__(...)\n",
      " |      Setstate re-implementation, for unpickling.\n",
      " |  \n",
      " |  apply(...)\n",
      " |      Finds the terminal region (=leaf node) for each sample in X.\n",
      " |  \n",
      " |  compute_feature_importances(...)\n",
      " |      Computes the importance of each feature (aka variable).\n",
      " |  \n",
      " |  compute_partial_dependence(...)\n",
      " |      Partial dependence of the response on the ``target_feature`` set.\n",
      " |      \n",
      " |      For each sample in ``X`` a tree traversal is performed.\n",
      " |      Each traversal starts from the root with weight 1.0.\n",
      " |      \n",
      " |      At each non-leaf node that splits on a target feature, either\n",
      " |      the left child or the right child is visited based on the feature\n",
      " |      value of the current sample, and the weight is not modified.\n",
      " |      At each non-leaf node that splits on a complementary feature,\n",
      " |      both children are visited and the weight is multiplied by the fraction\n",
      " |      of training samples which went to each child.\n",
      " |      \n",
      " |      At each leaf, the value of the node is multiplied by the current\n",
      " |      weight (weights sum to 1 for all visited terminal nodes).\n",
      " |      \n",
      " |      Parameters\n",
      " |      ----------\n",
      " |      X : view on 2d ndarray, shape (n_samples, n_target_features)\n",
      " |          The grid points on which the partial dependence should be\n",
      " |          evaluated.\n",
      " |      target_features : view on 1d ndarray, shape (n_target_features)\n",
      " |          The set of target features for which the partial dependence\n",
      " |          should be evaluated.\n",
      " |      out : view on 1d ndarray, shape (n_samples)\n",
      " |          The value of the partial dependence function on each grid\n",
      " |          point.\n",
      " |  \n",
      " |  decision_path(...)\n",
      " |      Finds the decision path (=node) for each sample in X.\n",
      " |  \n",
      " |  predict(...)\n",
      " |      Predict target for X.\n",
      " |  \n",
      " |  ----------------------------------------------------------------------\n",
      " |  Static methods defined here:\n",
      " |  \n",
      " |  __new__(*args, **kwargs) from builtins.type\n",
      " |      Create and return a new object.  See help(type) for accurate signature.\n",
      " |  \n",
      " |  ----------------------------------------------------------------------\n",
      " |  Data descriptors defined here:\n",
      " |  \n",
      " |  capacity\n",
      " |  \n",
      " |  children_left\n",
      " |  \n",
      " |  children_right\n",
      " |  \n",
      " |  feature\n",
      " |  \n",
      " |  impurity\n",
      " |  \n",
      " |  max_depth\n",
      " |  \n",
      " |  max_n_classes\n",
      " |  \n",
      " |  n_classes\n",
      " |  \n",
      " |  n_features\n",
      " |  \n",
      " |  n_leaves\n",
      " |  \n",
      " |  n_node_samples\n",
      " |  \n",
      " |  n_outputs\n",
      " |  \n",
      " |  node_count\n",
      " |  \n",
      " |  threshold\n",
      " |  \n",
      " |  value\n",
      " |  \n",
      " |  weighted_n_node_samples\n",
      " |  \n",
      " |  ----------------------------------------------------------------------\n",
      " |  Data and other attributes defined here:\n",
      " |  \n",
      " |  __pyx_vtable__ = <capsule object NULL>\n",
      "\n"
     ]
    }
   ],
   "source": [
    "import sklearn\n",
    "help(sklearn.tree._tree.Tree)"
   ]
  },
  {
   "cell_type": "code",
   "execution_count": 7,
   "metadata": {},
   "outputs": [],
   "source": [
    "tree = gbr.estimators_[0,0].tree_\n"
   ]
  },
  {
   "cell_type": "code",
   "execution_count": 8,
   "metadata": {},
   "outputs": [],
   "source": [
    "tree = gbr.estimators_[0,0].tree_"
   ]
  },
  {
   "cell_type": "code",
   "execution_count": 9,
   "metadata": {},
   "outputs": [],
   "source": [
    "from copy import deepcopy"
   ]
  },
  {
   "cell_type": "code",
   "execution_count": 10,
   "metadata": {},
   "outputs": [
    {
     "data": {
      "text/plain": [
       "sqft_living      1180\n",
       "sqft_lot         5650\n",
       "sqft_above       1180\n",
       "sqft_basement       0\n",
       "sqft_living15    1340\n",
       "sqft_lot15       5650\n",
       "Name: 0, dtype: int64"
      ]
     },
     "execution_count": 10,
     "metadata": {},
     "output_type": "execute_result"
    }
   ],
   "source": [
    "X_sample = X.iloc[0]\n",
    "X_sample"
   ]
  },
  {
   "cell_type": "code",
   "execution_count": 11,
   "metadata": {},
   "outputs": [
    {
     "data": {
      "text/plain": [
       "array([ 0,  0,  0, -2, -2,  4, -2, -2,  0,  0, -2, -2,  0, -2, -2],\n",
       "      dtype=int64)"
      ]
     },
     "execution_count": 11,
     "metadata": {},
     "output_type": "execute_result"
    }
   ],
   "source": [
    "tree.feature"
   ]
  },
  {
   "cell_type": "code",
   "execution_count": 12,
   "metadata": {},
   "outputs": [
    {
     "data": {
      "text/plain": [
       "array([ 3.4060e+03,  2.2595e+03,  1.5290e+03, -2.0000e+00, -2.0000e+00,\n",
       "        2.8550e+03, -2.0000e+00, -2.0000e+00,  4.7550e+03,  4.0625e+03,\n",
       "       -2.0000e+00, -2.0000e+00,  7.9400e+03, -2.0000e+00, -2.0000e+00])"
      ]
     },
     "execution_count": 12,
     "metadata": {},
     "output_type": "execute_result"
    }
   ],
   "source": [
    "tree.threshold"
   ]
  },
  {
   "cell_type": "code",
   "execution_count": 13,
   "metadata": {},
   "outputs": [
    {
     "data": {
      "text/plain": [
       "array([[[-1.47999839e-09]],\n",
       "\n",
       "       [[-6.10828458e+04]],\n",
       "\n",
       "       [[-1.34412441e+05]],\n",
       "\n",
       "       [[-1.91935984e+05]],\n",
       "\n",
       "       [[-8.40043399e+04]],\n",
       "\n",
       "       [[ 1.16067214e+05]],\n",
       "\n",
       "       [[ 7.46733480e+04]],\n",
       "\n",
       "       [[ 2.81749637e+05]],\n",
       "\n",
       "       [[ 6.83101792e+05]],\n",
       "\n",
       "       [[ 5.52206432e+05]],\n",
       "\n",
       "       [[ 4.52079996e+05]],\n",
       "\n",
       "       [[ 7.87092838e+05]],\n",
       "\n",
       "       [[ 1.42846442e+06]],\n",
       "\n",
       "       [[ 1.30639080e+06]],\n",
       "\n",
       "       [[ 4.54134186e+06]]])"
      ]
     },
     "execution_count": 13,
     "metadata": {},
     "output_type": "execute_result"
    }
   ],
   "source": [
    "tree.value"
   ]
  },
  {
   "cell_type": "code",
   "execution_count": 221,
   "metadata": {},
   "outputs": [],
   "source": [
    "# do this just for regression to start\n",
    "\n",
    "##### HOW TO GENERATE LOGICAL REPRESENTATIONS\n",
    "\n",
    "### Leaf encoding\n",
    "# run a DFS on the tree, store nodes in a stack\n",
    "\n",
    "# when you reach a leaf, write the logical statements for \n",
    "# pi(l) which is stack[1:] n wl where wl is the weight value of the leaf\n",
    "\n",
    "# DFS\n",
    "def dfs(tree, tree_num=0, X_input=None, epsilon=160, scale=0.1, verbose=False):\n",
    "    paths = []\n",
    "    pi_l = []  # this will be a list of lists of every pi_l ie: ['xi_1 <= 1000', 'xi_2 > 6000'..., wl]\n",
    "    stack=[0]  # initialize stack for tree\n",
    "    pi_l_stack=[]  # a stack for holding pi_l definitions based on position in tree\n",
    "    n_nodes = tree.node_count\n",
    "    threshold = tree.threshold \n",
    "    feature = tree.feature\n",
    "    left_searched = [False for _ in range(n_nodes)]\n",
    "    right_searched = [False for _ in range(n_nodes)]\n",
    "    children_left = tree.children_left\n",
    "    children_right = tree.children_right\n",
    "    values = tree.value  # I think these are the average value (or something) of a node based on training data\n",
    "    \n",
    "    reals = set(['out',])  # this is a set of reals that we will be adding to to instantiate later, any time we encounter a variable we will add to it\n",
    "    variables = set()  # this is used for variable constraints\n",
    "    \n",
    "    while True:\n",
    "        this_node = stack[-1]\n",
    "        this_threshold = threshold[this_node]\n",
    "        this_feature = feature[this_node]\n",
    "\n",
    "        searched_left_already = left_searched[this_node]\n",
    "        searched_right_already = right_searched[this_node]\n",
    "        \n",
    "        # define tree pruning\n",
    "        \n",
    "        if children_left[this_node] == -1:  # if leaf node we dont do pruning even if a threshold is defined\n",
    "            pass  # no pruning\n",
    "        elif X_input is not None:\n",
    "            lower_bound = X_input.iloc[this_feature]-epsilon\n",
    "            upper_bound = X_input.iloc[this_feature]+epsilon\n",
    "            if lower_bound <= this_threshold <= upper_bound:\n",
    "                pass  # no pruning because threshold within boundary, permissiable values on either side of threshold\n",
    "            elif this_threshold < lower_bound:\n",
    "                left_searched[this_node]=True  # prune left side because no possible value for this allowable input range will go down left side\n",
    "            elif upper_bound < this_threshold:\n",
    "                right_searched[this_node]=True # prune right side because no possible value for this allowable input range will go down right side\n",
    "        \n",
    "        # check if we need to search any more nodes at this level or go up previous one\n",
    "        if searched_left_already and searched_right_already and this_node==0:\n",
    "            break  # special condition from pruning where we have returned to the root of the tree after searching everything else\n",
    "        elif searched_left_already and searched_right_already:\n",
    "            stack.pop(-1)  # pop the last node off of the stack so we go one level up on the next run\n",
    "            pi_l_stack.pop(-1)\n",
    "            continue\n",
    "        \n",
    "        if not searched_left_already:  # search the left_child\n",
    "            child = children_left[this_node]\n",
    "            this_op = f'x_{this_feature} <= {this_threshold}'  # I wasn't sure exactly how these should be defined\n",
    "            left_searched[this_node]=True\n",
    "        else:  # search the right child\n",
    "            child = children_right[this_node]\n",
    "            this_op = f'x_{this_feature} > {this_threshold}'\n",
    "            right_searched[this_node]=True\n",
    "\n",
    "        if child==-1:  # at leaf\n",
    "            # append path to this node + the value of this node\n",
    "            this_path = deepcopy(stack[1:])+[deepcopy(values[this_node][0,0])]\n",
    "            this_pi_l = deepcopy(pi_l_stack[:])+[f'wl_{tree_num}=='+deepcopy(str(scale*values[this_node][0,0]))]\n",
    "            reals.add(f'wl_{tree_num}')  # adding this leaf node to the list of reals we need to instantiate\n",
    "            paths.append(this_path)\n",
    "            pi_l.append(this_pi_l)\n",
    "            result='And('+', '.join(this_pi_l)+')'\n",
    "            if verbose:\n",
    "                print(this_path, result)\n",
    "\n",
    "            if this_node == n_nodes-1:\n",
    "                break  # we have searched all paths and can break\n",
    "            stack.pop(-1)  # pop the last node off of the stack so we go one level up on the next run\n",
    "            pi_l_stack.pop(-1)\n",
    "        else:  # not at leaf\n",
    "            # append the child to the stack and continue search\n",
    "            stack.append(child)     \n",
    "            pi_l_stack.append(this_op)\n",
    "            reals.add(f'x_{this_feature}')  # add this feature to the set of reals, its okay if we choose to discard this path later\n",
    "            variables.add(f'x_{this_feature}')\n",
    "            \n",
    "    return pi_l, reals, variables\n",
    "\n",
    "# pruning: using an input x_i', compare the difference at every node in the DFS x_i\n",
    "# if |x_i-x_i'| < epsilon where epsilon is the predefined robustness factor\n",
    "# then keep node, otherwise pop current node from the stack and \n",
    "# stop searching this branch of the tree (return to previous level)\n",
    "\n",
    "### Tree encoding\n",
    "# then represent PI(D) as V(pi(l)) a disjunction of all pi(l) found during DFS\n",
    "\n",
    "### GBM encoding\n",
    "# lastly encode the full model instelf, (n(PI(D_i))) n (out=sum(wl_i))\n",
    "# I haven't fulling figured out how to represent the out=sum(wl_i) part yet.\n",
    "# wl_i should be the one value returned from each tree PI(D_i), we might just \n",
    "# need the additional predicate D_i(x)=wl_i meaning that putting x into the decision tree returns wl_i\n",
    "# but I'm not totally sure how this is expressed for Z3\n",
    "\n",
    "# gamma_R is the model encoding and referenced in the paper\n",
    "def get_gamma_R(gbr_model, X_input, epsilon=160, delta=100000):\n",
    "    all_pi_l = []\n",
    "    all_reals = set()\n",
    "    all_variables = set()\n",
    "    scale = gbr_model.learning_rate\n",
    "    for t in range(len(gbr_model.estimators_)):\n",
    "        tree = gbr_model.estimators_[t,0].tree_\n",
    "        this_pi_l, reals, variables = dfs(tree, tree_num=t, X_input=X_input, epsilon=epsilon, scale=scale)\n",
    "        all_pi_l.append(this_pi_l)\n",
    "        all_reals = all_reals.union(reals)\n",
    "        all_variables = all_variables.union(variables)\n",
    "        \n",
    "    all_PI_Ds = []\n",
    "    for r in range(len(all_pi_l)):\n",
    "        this_PI_D = all_pi_l[r]\n",
    "        PI_D = '\\tOr(\\n\\t\\t'+',\\n\\t\\t'.join(['And('+', '.join(this_pi_l)+')' for this_pi_l in this_PI_D])+'\\n\\t)'\n",
    "        all_PI_Ds.append(PI_D)\n",
    "\n",
    "        # print('\\nTree Representation PI(D):\\n',PI_D,sep='')\n",
    "\n",
    "    # construct variable constraints\n",
    "    variable_constraints = []\n",
    "    for x_i in list(all_variables):\n",
    "        this_index = int(x_i[2:])  # everything looks like x_i so indexing from x_[i..]\n",
    "        i_value = X_input.iloc[this_index]\n",
    "        var_robustness1 = f'{x_i} <= {i_value+epsilon}'\n",
    "        var_robustness2 = f'{i_value-epsilon} <= {x_i}'  # ensures that x_i is withing these boundaries\n",
    "        variable_constraints.append(f'And({var_robustness1}, {var_robustness2})')\n",
    "        \n",
    "    out = 'out=='+'+'.join([f'wl_{t}' for t in range(len(all_pi_l))])\n",
    "    \n",
    "    # calculate the residual value for the input\n",
    "    X_sample = np.array(X_input).reshape(1,-1)\n",
    "    input_regression_value = 0 # This is R(x), the residual value of the original input\n",
    "    n_estimators = gbr_model.n_estimators\n",
    "    scale = gbr_model.learning_rate\n",
    "    for t in range(n_estimators):\n",
    "        estimator = gbr_model.estimators_[t,0]  # this is a regressor so there is only one output hence the 0\n",
    "        value_in_decision_tree = estimator.predict(X_sample)[0]\n",
    "        input_regression_value += scale*value_in_decision_tree  \n",
    "    \n",
    "    output_robustness1 = f'{input_regression_value+delta} < out'\n",
    "    output_robustness2 = f'out < {input_regression_value-delta}'  # these two lines will ensure that all out values are OUTSIDE delta of the input regression value, so that if there is a counter-example then it will be found\n",
    "    output_robustness = f'Or({output_robustness2}, {output_robustness1})'\n",
    "    \n",
    "    gamma_R = ',\\n'.join(all_PI_Ds)\n",
    "    gamma_R = 'And(\\n\\t'+',\\n\\t'.join(variable_constraints)+',\\n\\t'+output_robustness+',\\n\\t'+out+',\\n'+gamma_R+'\\n)'\n",
    "\n",
    "    # print(out)\n",
    "    # print(gamma_R)\n",
    "    return gamma_R, all_reals\n",
    "\n",
    "# out='wl_1+wl_2+...'\n",
    "\n",
    "### Robust property encoding\n",
    "# see section 5 of the paper this is easier than the previous stuff but it \n",
    "# again has stuff like R(x) that I need to read the documentation on how to define\n",
    "\n",
    "\n"
   ]
  },
  {
   "cell_type": "code",
   "execution_count": 222,
   "metadata": {},
   "outputs": [],
   "source": [
    "# gbr.predict(np.array(X_sample).reshape(1,-1))[0]"
   ]
  },
  {
   "cell_type": "code",
   "execution_count": 223,
   "metadata": {},
   "outputs": [],
   "source": [
    "model_expression, all_reals = get_gamma_R(gbr, X_input=X_sample)"
   ]
  },
  {
   "cell_type": "code",
   "execution_count": 224,
   "metadata": {
    "scrolled": false
   },
   "outputs": [
    {
     "name": "stdout",
     "output_type": "stream",
     "text": [
      "And(\n",
      "\tAnd(x_0 <= 2480, 2160 <= x_0),\n",
      "\tAnd(x_2 <= 2480, 2160 <= x_2),\n",
      "\tAnd(x_1 <= 37007, 36687 <= x_1),\n",
      "\tAnd(x_4 <= 2710, 2390 <= x_4),\n",
      "\tAnd(x_5 <= 35225, 34905 <= x_5),\n",
      "\tAnd(x_3 <= 160, -160 <= x_3),\n",
      "\tOr(out < -84772.91217862547, 115227.08782137453 < out),\n",
      "\tout==wl_0+wl_1+wl_2+wl_3+wl_4+wl_5+wl_6+wl_7+wl_8+wl_9+wl_10+wl_11+wl_12+wl_13+wl_14+wl_15+wl_16+wl_17+wl_18+wl_19+wl_20+wl_21+wl_22+wl_23+wl_24+wl_25+wl_26+wl_27+wl_28+wl_29+wl_30+wl_31+wl_32+wl_33+wl_34+wl_35+wl_36+wl_37+wl_38+wl_39+wl_40+wl_41+wl_42+wl_43+wl_44+wl_45+wl_46+wl_47+wl_48+wl_49,\n",
      "\tOr(\n",
      "\t\tAnd(x_0 <= 3406.0, x_0 <= 2259.5, x_0 <= 1529.0, wl_0==-19193.59836710138),\n",
      "\t\tAnd(x_0 <= 3406.0, x_0 <= 2259.5, x_0 > 1529.0, wl_0==-8400.433994787229),\n",
      "\t\tAnd(x_0 <= 3406.0, x_0 > 2259.5, x_4 <= 2855.0, wl_0==7467.334801182247)\n",
      "\t),\n",
      "\tOr(\n",
      "\t\tAnd(x_0 <= 2847.5, x_0 <= 2009.5, x_5 <= 6023.5, wl_1==-8509.566278383158),\n",
      "\t\tAnd(x_0 <= 2847.5, x_0 <= 2009.5, x_5 > 6023.5, wl_1==-17712.642461887295),\n",
      "\t\tAnd(x_0 <= 2847.5, x_0 > 2009.5, x_4 <= 2669.5, wl_1==-408.44298281117705),\n",
      "\t\tAnd(x_0 <= 2847.5, x_0 > 2009.5, x_4 > 2669.5, wl_1==16467.910379817346)\n",
      "\t),\n",
      "\tOr(\n",
      "\t\tAnd(x_0 <= 3062.0, x_0 <= 2039.0, x_5 <= 5946.0, wl_2==-7279.183049486862),\n",
      "\t\tAnd(x_0 <= 3062.0, x_0 <= 2039.0, x_5 > 5946.0, wl_2==-15594.672040248966),\n",
      "\t\tAnd(x_0 <= 3062.0, x_0 > 2039.0, x_4 <= 2729.0, wl_2==1172.6045049047984)\n",
      "\t),\n",
      "\tOr(\n",
      "\t\tAnd(x_0 <= 2847.5, x_0 <= 1873.0, x_5 <= 5104.0, wl_3==-6734.5641770915945),\n",
      "\t\tAnd(x_0 <= 2847.5, x_0 <= 1873.0, x_5 > 5104.0, wl_3==-14794.849091053668),\n",
      "\t\tAnd(x_0 <= 2847.5, x_0 > 1873.0, x_4 <= 2555.0, wl_3==-1927.8616784513972),\n",
      "\t\tAnd(x_0 <= 2847.5, x_0 > 1873.0, x_4 > 2555.0, wl_3==11075.172025299606)\n",
      "\t),\n",
      "\tOr(\n",
      "\t\tAnd(x_0 <= 3278.0, x_0 <= 2329.5, x_0 <= 1452.0, wl_4==-14137.459889861217),\n",
      "\t\tAnd(x_0 <= 3278.0, x_0 <= 2329.5, x_0 > 1452.0, wl_4==-5148.5550688381145),\n",
      "\t\tAnd(x_0 <= 3278.0, x_0 > 2329.5, x_4 <= 3255.0, wl_4==6763.18699364449)\n",
      "\t),\n",
      "\tOr(\n",
      "\t\tAnd(x_0 <= 2829.0, x_4 <= 2009.5, x_5 <= 6023.5, wl_5==-3263.17692036053),\n",
      "\t\tAnd(x_0 <= 2829.0, x_4 <= 2009.5, x_5 > 6023.5, wl_5==-13281.728102189894),\n",
      "\t\tAnd(x_0 <= 2829.0, x_4 > 2009.5, x_4 <= 2599.0, wl_5==-605.1438524534766),\n",
      "\t\tAnd(x_0 <= 2829.0, x_4 > 2009.5, x_4 > 2599.0, wl_5==10110.389866993091)\n",
      "\t),\n",
      "\tOr(\n",
      "\t\tAnd(x_0 <= 3406.0, x_0 <= 2158.0, x_4 <= 1609.0, wl_6==-11494.98553863114),\n",
      "\t\tAnd(x_0 <= 3406.0, x_0 <= 2158.0, x_4 > 1609.0, wl_6==-4038.0285742045703),\n",
      "\t\tAnd(x_0 <= 3406.0, x_0 > 2158.0, x_4 <= 3116.0, wl_6==4033.620312602469)\n",
      "\t),\n",
      "\tOr(\n",
      "\t\tAnd(x_0 <= 3062.0, x_0 <= 1985.0, x_0 <= 1205.0, wl_7==-13331.19841143272),\n",
      "\t\tAnd(x_0 <= 3062.0, x_0 <= 1985.0, x_0 > 1205.0, wl_7==-5729.470544669801),\n",
      "\t\tAnd(x_0 <= 3062.0, x_0 > 1985.0, x_4 <= 2805.0, wl_7==653.358851019013)\n",
      "\t),\n",
      "\tOr(\n",
      "\t\tAnd(x_0 <= 2829.0, x_0 <= 1610.5, x_4 <= 1275.0, wl_8==-14168.464827740074),\n",
      "\t\tAnd(x_0 <= 2829.0, x_0 <= 1610.5, x_4 > 1275.0, wl_8==-7015.933740208227),\n",
      "\t\tAnd(x_0 <= 2829.0, x_0 > 1610.5, x_5 <= 5000.5, wl_8==5750.550755681848),\n",
      "\t\tAnd(x_0 <= 2829.0, x_0 > 1610.5, x_5 > 5000.5, wl_8==-2713.511974958086)\n",
      "\t),\n",
      "\tOr(\n",
      "\t\tAnd(x_0 <= 3278.0, x_4 <= 2279.5, x_5 <= 6388.5, wl_9==-399.4191871347624),\n",
      "\t\tAnd(x_0 <= 3278.0, x_4 <= 2279.5, x_5 > 6388.5, wl_9==-8831.862425481811),\n",
      "\t\tAnd(x_0 <= 3278.0, x_4 > 2279.5, x_3 <= 30.0, wl_9==1925.720661147383),\n",
      "\t\tAnd(x_0 <= 3278.0, x_4 > 2279.5, x_3 > 30.0, wl_9==14261.717749870324)\n",
      "\t),\n",
      "\tOr(\n",
      "\t\tAnd(x_4 <= 2916.0, x_0 <= 2438.5, x_4 <= 1609.0, wl_10==-8140.513978668034),\n",
      "\t\tAnd(x_4 <= 2916.0, x_0 <= 2438.5, x_4 > 1609.0, wl_10==-2177.9494181506548),\n",
      "\t\tAnd(x_4 <= 2916.0, x_0 > 2438.5, x_5 <= 4202.5, wl_10==22345.811501356948),\n",
      "\t\tAnd(x_4 <= 2916.0, x_0 > 2438.5, x_5 > 4202.5, wl_10==4570.847003067755)\n",
      "\t),\n",
      "\tOr(\n",
      "\t\tAnd(x_0 <= 3635.0, x_0 <= 2438.5, x_0 <= 1402.5, wl_11==-8246.424881951105),\n",
      "\t\tAnd(x_0 <= 3635.0, x_0 <= 2438.5, x_0 > 1402.5, wl_11==-2192.746067766688),\n",
      "\t\tAnd(x_0 <= 3635.0, x_0 > 2438.5, x_3 <= 25.0, wl_11==2058.012264006323),\n",
      "\t\tAnd(x_0 <= 3635.0, x_0 > 2438.5, x_3 > 25.0, wl_11==11248.96322155361)\n",
      "\t),\n",
      "\tOr(\n",
      "\t\tAnd(x_4 <= 2865.0, x_0 <= 2438.5, x_5 <= 5103.5, wl_12==427.70888106865743),\n",
      "\t\tAnd(x_4 <= 2865.0, x_0 <= 2438.5, x_5 > 5103.5, wl_12==-5951.469800870804),\n",
      "\t\tAnd(x_4 <= 2865.0, x_0 > 2438.5, x_5 <= 4202.5, wl_12==19189.345710796584),\n",
      "\t\tAnd(x_4 <= 2865.0, x_0 > 2438.5, x_5 > 4202.5, wl_12==3045.614267836813)\n",
      "\t),\n",
      "\tOr(\n",
      "\t\tAnd(x_4 <= 2916.0, x_0 <= 1831.5, x_5 <= 5128.0, wl_13==-1478.2906683131207),\n",
      "\t\tAnd(x_4 <= 2916.0, x_0 <= 1831.5, x_5 > 5128.0, wl_13==-6937.459756167687),\n",
      "\t\tAnd(x_4 <= 2916.0, x_0 > 1831.5, x_5 <= 5002.0, wl_13==8270.44478948896),\n",
      "\t\tAnd(x_4 <= 2916.0, x_0 > 1831.5, x_5 > 5002.0, wl_13==-376.69797522243516)\n",
      "\t),\n",
      "\tOr(\n",
      "\t\tAnd(x_0 <= 3635.0, x_4 <= 2259.0, x_5 <= 6388.5, wl_14==708.9829067999385),\n",
      "\t\tAnd(x_0 <= 3635.0, x_4 <= 2259.0, x_5 > 6388.5, wl_14==-6362.702350832303),\n",
      "\t\tAnd(x_0 <= 3635.0, x_4 > 2259.0, x_3 <= 30.0, wl_14==1112.2961769054423),\n",
      "\t\tAnd(x_0 <= 3635.0, x_4 > 2259.0, x_3 > 30.0, wl_14==10857.807503877315)\n",
      "\t),\n",
      "\tOr(\n",
      "\t\tAnd(x_0 <= 3406.0, x_4 <= 1698.0, x_5 <= 5193.0, wl_15==-693.2606559074878),\n",
      "\t\tAnd(x_0 <= 3406.0, x_4 <= 1698.0, x_5 > 5193.0, wl_15==-7458.452852928121),\n",
      "\t\tAnd(x_0 <= 3406.0, x_4 > 1698.0, x_4 <= 3675.0, wl_15==972.2398038608467)\n",
      "\t),\n",
      "\tOr(\n",
      "\t\tAnd(x_0 <= 2600.5, x_4 <= 1439.5, x_0 <= 1104.0, wl_16==-10274.470753700618),\n",
      "\t\tAnd(x_0 <= 2600.5, x_4 <= 1439.5, x_0 > 1104.0, wl_16==-4578.014317552833),\n",
      "\t\tAnd(x_0 <= 2600.5, x_4 > 1439.5, x_5 <= 6403.5, wl_16==1962.2045137767532),\n",
      "\t\tAnd(x_0 <= 2600.5, x_4 > 1439.5, x_5 > 6403.5, wl_16==-2804.26619925336)\n",
      "\t),\n",
      "\tOr(\n",
      "\t\tAnd(x_4 <= 2821.0, x_0 <= 1509.5, x_4 <= 1205.0, wl_17==-9574.526309059236),\n",
      "\t\tAnd(x_4 <= 2821.0, x_0 <= 1509.5, x_4 > 1205.0, wl_17==-3680.0045120997816),\n",
      "\t\tAnd(x_4 <= 2821.0, x_0 > 1509.5, x_5 <= 5103.5, wl_17==4750.255513178602),\n",
      "\t\tAnd(x_4 <= 2821.0, x_0 > 1509.5, x_5 > 5103.5, wl_17==-1357.9184244156781)\n",
      "\t),\n",
      "\tOr(\n",
      "\t\tAnd(x_0 <= 3885.0, x_4 <= 1873.0, x_5 <= 6593.0, wl_18==0.2349117526774899),\n",
      "\t\tAnd(x_0 <= 3885.0, x_4 <= 1873.0, x_5 > 6593.0, wl_18==-6259.736329877465),\n",
      "\t\tAnd(x_0 <= 3885.0, x_4 > 1873.0, x_4 <= 3677.0, wl_18==1647.51109514447)\n",
      "\t),\n",
      "\tOr(\n",
      "\t\tAnd(x_0 <= 2600.5, x_0 <= 1109.0, x_4 <= 1161.0, wl_19==-10217.796525298989),\n",
      "\t\tAnd(x_0 <= 2600.5, x_0 <= 1109.0, x_4 > 1161.0, wl_19==-5389.925055125807),\n",
      "\t\tAnd(x_0 <= 2600.5, x_0 > 1109.0, x_4 <= 2489.0, wl_19==-1675.122553118811),\n",
      "\t\tAnd(x_0 <= 2600.5, x_0 > 1109.0, x_4 > 2489.0, wl_19==4871.629646029927)\n",
      "\t),\n",
      "\tOr(\n",
      "\t\tAnd(x_4 <= 2916.0, x_3 <= 95.0, x_2 <= 1205.0, wl_20==-6072.509607163185),\n",
      "\t\tAnd(x_4 <= 2916.0, x_3 <= 95.0, x_2 > 1205.0, wl_20==-1713.4758252503063),\n",
      "\t\tAnd(x_4 <= 2916.0, x_3 > 95.0, x_5 <= 7012.5, wl_20==7010.245203922052),\n",
      "\t\tAnd(x_4 <= 2916.0, x_3 > 95.0, x_5 > 7012.5, wl_20==-3138.2851421392065)\n",
      "\t),\n",
      "\tOr(\n",
      "\t\tAnd(x_0 <= 2600.5, x_4 <= 1439.5, x_4 <= 1079.0, wl_21==-8962.451107553756),\n",
      "\t\tAnd(x_0 <= 2600.5, x_4 <= 1439.5, x_4 > 1079.0, wl_21==-3765.38392326192),\n",
      "\t\tAnd(x_0 <= 2600.5, x_4 > 1439.5, x_1 <= 6001.0, wl_21==1781.1404064812104),\n",
      "\t\tAnd(x_0 <= 2600.5, x_4 > 1439.5, x_1 > 6001.0, wl_21==-1795.3434872734576)\n",
      "\t),\n",
      "\tOr(\n",
      "\t\tAnd(x_4 <= 2656.5, x_5 <= 6403.5, x_3 <= 95.0, wl_22==-2558.4415305671964),\n",
      "\t\tAnd(x_4 <= 2656.5, x_5 <= 6403.5, x_3 > 95.0, wl_22==6029.290462860068),\n",
      "\t\tAnd(x_4 <= 2656.5, x_5 > 6403.5, x_4 <= 1835.0, wl_22==-5002.324701695741),\n",
      "\t\tAnd(x_4 <= 2656.5, x_5 > 6403.5, x_4 > 1835.0, wl_22==-207.3975984053535),\n",
      "\t\tAnd(x_4 > 2656.5, x_3 <= 40.0, x_5 <= 8834.5, wl_22==-7254.786342181786),\n",
      "\t\tAnd(x_4 > 2656.5, x_3 <= 40.0, x_5 > 8834.5, wl_22==9319.424633443617),\n",
      "\t\tAnd(x_4 > 2656.5, x_3 > 40.0, x_5 <= 35053.5, wl_22==16516.71831503327),\n",
      "\t\tAnd(x_4 > 2656.5, x_3 > 40.0, x_5 > 35053.5, wl_22==-14280.548866836494)\n",
      "\t),\n",
      "\tOr(\n",
      "\t\tAnd(x_0 <= 3885.0, x_4 <= 3720.5, x_3 <= 45.0, wl_23==-2047.1710150507224),\n",
      "\t\tAnd(x_0 <= 3885.0, x_4 <= 3720.5, x_3 > 45.0, wl_23==1465.6453918231282)\n",
      "\t),\n",
      "\tOr(\n",
      "\t\tAnd(x_4 <= 2495.5, x_5 <= 6403.5, x_3 <= 95.0, wl_24==-1850.918042482565),\n",
      "\t\tAnd(x_4 <= 2495.5, x_5 <= 6403.5, x_3 > 95.0, wl_24==4975.26058231437),\n",
      "\t\tAnd(x_4 <= 2495.5, x_5 > 6403.5, x_4 <= 1835.0, wl_24==-4410.841425654854),\n",
      "\t\tAnd(x_4 <= 2495.5, x_5 > 6403.5, x_4 > 1835.0, wl_24==-753.729884543967),\n",
      "\t\tAnd(x_4 > 2495.5, x_2 <= 6160.0, x_5 <= 8497.5, wl_24==-554.88208416747),\n",
      "\t\tAnd(x_4 > 2495.5, x_2 <= 6160.0, x_5 > 8497.5, wl_24==7432.712446648496)\n",
      "\t),\n",
      "\tOr(\n",
      "\t\tAnd(x_4 <= 3385.0, x_2 <= 3895.0, x_4 <= 1493.0, wl_25==-3209.567336359699),\n",
      "\t\tAnd(x_4 <= 3385.0, x_2 <= 3895.0, x_4 > 1493.0, wl_25==280.03434836285544)\n",
      "\t),\n",
      "\tOr(\n",
      "\t\tAnd(x_4 <= 2239.0, x_5 <= 6024.0, x_0 <= 2342.0, wl_26==-62.32298541646825),\n",
      "\t\tAnd(x_4 <= 2239.0, x_5 <= 6024.0, x_0 > 2342.0, wl_26==9883.05867062217),\n",
      "\t\tAnd(x_4 <= 2239.0, x_5 > 6024.0, x_3 <= 1485.0, wl_26==-2809.4696497113187),\n",
      "\t\tAnd(x_4 > 2239.0, x_3 <= 30.0, x_5 <= 8783.5, wl_26==-5870.144513987697),\n",
      "\t\tAnd(x_4 > 2239.0, x_3 <= 30.0, x_5 > 8783.5, wl_26==6309.809102482501),\n",
      "\t\tAnd(x_4 > 2239.0, x_3 > 30.0, x_5 <= 35053.5, wl_26==9667.081900045741),\n",
      "\t\tAnd(x_4 > 2239.0, x_3 > 30.0, x_5 > 35053.5, wl_26==-11073.049141998421)\n",
      "\t),\n",
      "\tOr(\n",
      "\t\tAnd(x_4 <= 3385.0, x_2 <= 3895.0, x_4 <= 1273.5, wl_27==-4320.6504281991565),\n",
      "\t\tAnd(x_4 <= 3385.0, x_2 <= 3895.0, x_4 > 1273.5, wl_27==-75.90657312041559)\n",
      "\t),\n",
      "\tOr(\n",
      "\t\tAnd(x_0 <= 2579.0, x_0 <= 906.0, x_2 <= 695.0, wl_28==-9638.115679327091),\n",
      "\t\tAnd(x_0 <= 2579.0, x_0 <= 906.0, x_2 > 695.0, wl_28==-5647.904079320406),\n",
      "\t\tAnd(x_0 <= 2579.0, x_0 > 906.0, x_5 <= 5000.5, wl_28==1309.2564343882204),\n",
      "\t\tAnd(x_0 <= 2579.0, x_0 > 906.0, x_5 > 5000.5, wl_28==-1415.4610874991367)\n",
      "\t),\n",
      "\tOr(\n",
      "\t\tAnd(x_4 <= 2285.0, x_5 <= 7206.5, x_0 <= 2342.0, wl_29==-238.42446049193933),\n",
      "\t\tAnd(x_4 <= 2285.0, x_5 <= 7206.5, x_0 > 2342.0, wl_29==7739.946383959538),\n",
      "\t\tAnd(x_4 <= 2285.0, x_5 > 7206.5, x_3 <= 1145.0, wl_29==-2405.548086672177),\n",
      "\t\tAnd(x_4 > 2285.0, x_3 <= 30.0, x_5 <= 8783.5, wl_29==-5681.355975089898),\n",
      "\t\tAnd(x_4 > 2285.0, x_3 <= 30.0, x_5 > 8783.5, wl_29==5573.50540256123),\n",
      "\t\tAnd(x_4 > 2285.0, x_3 > 30.0, x_5 <= 30558.5, wl_29==8807.676212185223),\n",
      "\t\tAnd(x_4 > 2285.0, x_3 > 30.0, x_5 > 30558.5, wl_29==-9190.706559972079)\n",
      "\t),\n",
      "\tOr(\n",
      "\t\tAnd(x_0 <= 6180.0, x_4 <= 1679.0, x_5 <= 5109.5, wl_30==-50.35778067185302),\n",
      "\t\tAnd(x_0 <= 6180.0, x_4 <= 1679.0, x_5 > 5109.5, wl_30==-2939.634075180975),\n",
      "\t\tAnd(x_0 <= 6180.0, x_4 > 1679.0, x_3 <= 75.0, wl_30==-279.45407038613587),\n",
      "\t\tAnd(x_0 <= 6180.0, x_4 > 1679.0, x_3 > 75.0, wl_30==2918.9530280651647)\n",
      "\t),\n",
      "\tOr(\n",
      "\t\tAnd(x_4 <= 3385.0, x_2 <= 3895.0, x_3 <= 2025.0, wl_31==-415.5364939062536)\n",
      "\t),\n",
      "\tOr(\n",
      "\t\tAnd(x_2 <= 1413.5, x_4 <= 1161.0, x_4 <= 985.0, wl_32==-7849.980930366279),\n",
      "\t\tAnd(x_2 <= 1413.5, x_4 <= 1161.0, x_4 > 985.0, wl_32==-4178.639742201935),\n",
      "\t\tAnd(x_2 <= 1413.5, x_4 > 1161.0, x_1 <= 7201.5, wl_32==538.0514903865939),\n",
      "\t\tAnd(x_2 <= 1413.5, x_4 > 1161.0, x_1 > 7201.5, wl_32==-2778.686643278177),\n",
      "\t\tAnd(x_2 > 1413.5, x_3 <= 25.0, x_5 <= 9478.5, wl_32==-2336.268449154847),\n",
      "\t\tAnd(x_2 > 1413.5, x_3 <= 25.0, x_5 > 9478.5, wl_32==3114.2368994348303),\n",
      "\t\tAnd(x_2 > 1413.5, x_3 > 25.0, x_5 <= 7209.0, wl_32==10751.808290584115),\n",
      "\t\tAnd(x_2 > 1413.5, x_3 > 25.0, x_5 > 7209.0, wl_32==888.7269376091219)\n",
      "\t),\n",
      "\tOr(\n",
      "\t\tAnd(x_0 <= 5005.0, x_2 <= 1413.5, x_0 <= 875.0, wl_33==-5542.67381337539),\n",
      "\t\tAnd(x_0 <= 5005.0, x_2 <= 1413.5, x_0 > 875.0, wl_33==-1106.7883582651818),\n",
      "\t\tAnd(x_0 <= 5005.0, x_2 > 1413.5, x_3 <= 25.0, wl_33==-405.7154097237448),\n",
      "\t\tAnd(x_0 <= 5005.0, x_2 > 1413.5, x_3 > 25.0, wl_33==3708.8844664180406)\n",
      "\t),\n",
      "\tOr(\n",
      "\t\tAnd(x_4 <= 3385.0, x_2 <= 3895.0, x_5 <= 5000.5, wl_34==1499.5603730177634),\n",
      "\t\tAnd(x_4 <= 3385.0, x_2 <= 3895.0, x_5 > 5000.5, wl_34==-1012.7782658960818)\n",
      "\t),\n",
      "\tOr(\n",
      "\t\tAnd(x_4 <= 1866.0, x_5 <= 7108.5, x_2 <= 1831.5, wl_35==-516.0504118155872),\n",
      "\t\tAnd(x_4 <= 1866.0, x_5 <= 7108.5, x_2 > 1831.5, wl_35==6402.378350456177),\n",
      "\t\tAnd(x_4 <= 1866.0, x_5 > 7108.5, x_3 <= 1145.0, wl_35==-2416.032220317114),\n",
      "\t\tAnd(x_4 > 1866.0, x_3 <= 55.0, x_5 <= 8797.5, wl_35==-3508.517219947548),\n",
      "\t\tAnd(x_4 > 1866.0, x_3 <= 55.0, x_5 > 8797.5, wl_35==3615.4362699554003),\n",
      "\t\tAnd(x_4 > 1866.0, x_3 > 55.0, x_5 <= 7202.5, wl_35==9848.135278888245),\n",
      "\t\tAnd(x_4 > 1866.0, x_3 > 55.0, x_5 > 7202.5, wl_35==395.4440132631333)\n",
      "\t),\n",
      "\tOr(\n",
      "\t\tAnd(x_2 <= 6320.0, x_4 <= 1461.5, x_0 <= 3911.0, wl_36==-1883.2886859064993),\n",
      "\t\tAnd(x_2 <= 6320.0, x_4 > 1461.5, x_5 <= 28708.5, wl_36==886.1896654028699),\n",
      "\t\tAnd(x_2 <= 6320.0, x_4 > 1461.5, x_5 > 28708.5, wl_36==-3055.0849106283317)\n",
      "\t),\n",
      "\tOr(\n",
      "\t\tAnd(x_0 <= 6635.0, x_4 <= 2239.0, x_3 <= 1485.0, wl_37==-594.2950380871698),\n",
      "\t\tAnd(x_0 <= 6635.0, x_4 > 2239.0, x_1 <= 32101.0, wl_37==2341.870486093667),\n",
      "\t\tAnd(x_0 <= 6635.0, x_4 > 2239.0, x_1 > 32101.0, wl_37==-3253.1889199743878)\n",
      "\t),\n",
      "\tOr(\n",
      "\t\tAnd(x_4 <= 3385.0, x_2 <= 3895.0, x_3 <= 2025.0, wl_38==-284.50101300833273)\n",
      "\t),\n",
      "\tOr(\n",
      "\t\tAnd(x_2 <= 5401.5, x_4 <= 1153.0, x_5 <= 6008.0, wl_39==-5439.8251637781905),\n",
      "\t\tAnd(x_2 <= 5401.5, x_4 <= 1153.0, x_5 > 6008.0, wl_39==-2131.094585182847),\n",
      "\t\tAnd(x_2 <= 5401.5, x_4 > 1153.0, x_5 <= 5000.5, wl_39==1861.4422482900716),\n",
      "\t\tAnd(x_2 <= 5401.5, x_4 > 1153.0, x_5 > 5000.5, wl_39==-330.25029927365307)\n",
      "\t),\n",
      "\tOr(\n",
      "\t\tAnd(x_4 <= 2865.0, x_3 <= 1165.0, x_0 <= 2747.0, wl_40==-418.19113867313445)\n",
      "\t),\n",
      "\tOr(\n",
      "\t\tAnd(x_3 <= 95.0, x_5 <= 9943.5, x_4 <= 2361.5, wl_41==-982.4809069920871),\n",
      "\t\tAnd(x_3 <= 95.0, x_5 <= 9943.5, x_4 > 2361.5, wl_41==-4088.4685552190817),\n",
      "\t\tAnd(x_3 <= 95.0, x_5 > 9943.5, x_4 <= 1775.0, wl_41==-2302.4412066054433),\n",
      "\t\tAnd(x_3 <= 95.0, x_5 > 9943.5, x_4 > 1775.0, wl_41==3334.1293818376844),\n",
      "\t\tAnd(x_3 > 95.0, x_2 <= 1815.0, x_1 <= 6609.5, wl_41==2044.6997654215465),\n",
      "\t\tAnd(x_3 > 95.0, x_2 <= 1815.0, x_1 > 6609.5, wl_41==-2056.18707038053),\n",
      "\t\tAnd(x_3 > 95.0, x_2 > 1815.0, x_5 <= 35053.5, wl_41==7416.26200119832),\n",
      "\t\tAnd(x_3 > 95.0, x_2 > 1815.0, x_5 > 35053.5, wl_41==-10152.521398897332)\n",
      "\t),\n",
      "\tOr(\n",
      "\t\tAnd(x_2 <= 847.0, x_2 <= 685.0, x_4 <= 3020.5, wl_42==-7016.773853492983),\n",
      "\t\tAnd(x_2 <= 847.0, x_2 > 685.0, x_0 <= 1125.0, wl_42==-4116.440343055262),\n",
      "\t\tAnd(x_2 <= 847.0, x_2 > 685.0, x_0 > 1125.0, wl_42==-466.96566051456415),\n",
      "\t\tAnd(x_2 > 847.0, x_2 <= 6320.0, x_5 <= 5000.5, wl_42==1621.380057477044),\n",
      "\t\tAnd(x_2 > 847.0, x_2 <= 6320.0, x_5 > 5000.5, wl_42==-262.89032048927396)\n",
      "\t),\n",
      "\tOr(\n",
      "\t\tAnd(x_4 <= 1679.0, x_2 <= 1809.0, x_4 <= 1079.0, wl_43==-4188.150628382175),\n",
      "\t\tAnd(x_4 <= 1679.0, x_2 <= 1809.0, x_4 > 1079.0, wl_43==-1072.4039961882115),\n",
      "\t\tAnd(x_4 <= 1679.0, x_2 > 1809.0, x_5 <= 5934.0, wl_43==7330.831861463514),\n",
      "\t\tAnd(x_4 <= 1679.0, x_2 > 1809.0, x_5 > 5934.0, wl_43==-1406.1925811721921),\n",
      "\t\tAnd(x_4 > 1679.0, x_5 <= 28708.5, x_5 <= 15700.5, wl_43==497.40485102249045),\n",
      "\t\tAnd(x_4 > 1679.0, x_5 <= 28708.5, x_5 > 15700.5, wl_43==8244.734336290785),\n",
      "\t\tAnd(x_4 > 1679.0, x_5 > 28708.5, x_3 <= 875.0, wl_43==-1032.4503245360327)\n",
      "\t),\n",
      "\tOr(\n",
      "\t\tAnd(x_0 <= 6635.0, x_0 <= 6556.5, x_2 <= 815.0, wl_44==-3824.6493615888958),\n",
      "\t\tAnd(x_0 <= 6635.0, x_0 <= 6556.5, x_2 > 815.0, wl_44==123.96220507034698)\n",
      "\t),\n",
      "\tOr(\n",
      "\t\tAnd(x_3 <= 75.0, x_5 <= 9943.5, x_4 <= 2051.0, wl_45==-602.8178520653709),\n",
      "\t\tAnd(x_3 <= 75.0, x_5 <= 9943.5, x_4 > 2051.0, wl_45==-3195.4566790328495),\n",
      "\t\tAnd(x_3 <= 75.0, x_5 > 9943.5, x_4 <= 2285.0, wl_45==-739.7964178044463),\n",
      "\t\tAnd(x_3 <= 75.0, x_5 > 9943.5, x_4 > 2285.0, wl_45==3899.9286210929577),\n",
      "\t\tAnd(x_3 > 75.0, x_2 <= 1785.0, x_5 <= 7206.5, wl_45==1520.9820680979199),\n",
      "\t\tAnd(x_3 > 75.0, x_2 <= 1785.0, x_5 > 7206.5, wl_45==-1918.9736532428874),\n",
      "\t\tAnd(x_3 > 75.0, x_2 > 1785.0, x_5 <= 9367.5, wl_45==9167.818170430577),\n",
      "\t\tAnd(x_3 > 75.0, x_2 > 1785.0, x_5 > 9367.5, wl_45==53.47307202224724)\n",
      "\t),\n",
      "\tOr(\n",
      "\t\tAnd(x_0 <= 5015.0, x_0 <= 4865.0, x_0 <= 4825.0, wl_46==-63.09158990787569)\n",
      "\t),\n",
      "\tOr(\n",
      "\t\tAnd(x_4 <= 1461.5, x_2 <= 3430.0, x_3 <= 995.0, wl_47==-1089.9858786582124),\n",
      "\t\tAnd(x_4 > 1461.5, x_1 <= 4105.5, x_0 <= 2900.0, wl_47==2064.98225672581),\n",
      "\t\tAnd(x_4 > 1461.5, x_1 > 4105.5, x_2 <= 6320.0, wl_47==41.79534860732707)\n",
      "\t),\n",
      "\tOr(\n",
      "\t\tAnd(x_3 <= 95.0, x_0 <= 7950.0, x_5 <= 9943.5, wl_48==-1228.7283736877473),\n",
      "\t\tAnd(x_3 <= 95.0, x_0 <= 7950.0, x_5 > 9943.5, wl_48==1363.4071499037946),\n",
      "\t\tAnd(x_3 > 95.0, x_2 <= 1815.0, x_1 <= 6609.5, wl_48==1717.6888913508046),\n",
      "\t\tAnd(x_3 > 95.0, x_2 <= 1815.0, x_1 > 6609.5, wl_48==-1654.8557247686776),\n",
      "\t\tAnd(x_3 > 95.0, x_2 > 1815.0, x_5 <= 35053.5, wl_48==5774.298500537603),\n",
      "\t\tAnd(x_3 > 95.0, x_2 > 1815.0, x_5 > 35053.5, wl_48==-8670.845769203155)\n",
      "\t),\n",
      "\tOr(\n",
      "\t\tAnd(x_0 <= 6635.0, x_0 <= 6556.5, x_3 <= 2025.0, wl_49==14.26657881501582)\n",
      "\t)\n",
      ")\n"
     ]
    }
   ],
   "source": [
    "print(model_expression)"
   ]
  },
  {
   "cell_type": "code",
   "execution_count": 225,
   "metadata": {},
   "outputs": [
    {
     "data": {
      "text/plain": [
       "{'out',\n",
       " 'wl_0',\n",
       " 'wl_1',\n",
       " 'wl_10',\n",
       " 'wl_11',\n",
       " 'wl_12',\n",
       " 'wl_13',\n",
       " 'wl_14',\n",
       " 'wl_15',\n",
       " 'wl_16',\n",
       " 'wl_17',\n",
       " 'wl_18',\n",
       " 'wl_19',\n",
       " 'wl_2',\n",
       " 'wl_20',\n",
       " 'wl_21',\n",
       " 'wl_22',\n",
       " 'wl_23',\n",
       " 'wl_24',\n",
       " 'wl_25',\n",
       " 'wl_26',\n",
       " 'wl_27',\n",
       " 'wl_28',\n",
       " 'wl_29',\n",
       " 'wl_3',\n",
       " 'wl_30',\n",
       " 'wl_31',\n",
       " 'wl_32',\n",
       " 'wl_33',\n",
       " 'wl_34',\n",
       " 'wl_35',\n",
       " 'wl_36',\n",
       " 'wl_37',\n",
       " 'wl_38',\n",
       " 'wl_39',\n",
       " 'wl_4',\n",
       " 'wl_40',\n",
       " 'wl_41',\n",
       " 'wl_42',\n",
       " 'wl_43',\n",
       " 'wl_44',\n",
       " 'wl_45',\n",
       " 'wl_46',\n",
       " 'wl_47',\n",
       " 'wl_48',\n",
       " 'wl_49',\n",
       " 'wl_5',\n",
       " 'wl_6',\n",
       " 'wl_7',\n",
       " 'wl_8',\n",
       " 'wl_9',\n",
       " 'x_0',\n",
       " 'x_1',\n",
       " 'x_2',\n",
       " 'x_3',\n",
       " 'x_4',\n",
       " 'x_5'}"
      ]
     },
     "execution_count": 225,
     "metadata": {},
     "output_type": "execute_result"
    }
   ],
   "source": [
    "all_reals"
   ]
  },
  {
   "cell_type": "code",
   "execution_count": 255,
   "metadata": {},
   "outputs": [],
   "source": [
    "import re\n",
    "\n",
    "# define all real values\n",
    "exec(\",\".join(list(all_reals))+\" = Reals('\"+\" \".join(list(all_reals))+\"')\")\n",
    "\n",
    "\n",
    "model_expression = re.sub(\"\\s+\", # one or more repetition of whitespace\n",
    "       '', # replace with empty string (->remove)\n",
    "       model_expression\n",
    "      )\n",
    "gamma_ = eval(model_expression)"
   ]
  },
  {
   "cell_type": "code",
   "execution_count": 256,
   "metadata": {},
   "outputs": [
    {
     "name": "stdout",
     "output_type": "stream",
     "text": [
      "sat\n",
      "389530.0811259781\n"
     ]
    }
   ],
   "source": [
    "s = Solver()\n",
    "s.add(gamma_)\n",
    "solver_result = s.check()\n",
    "print(solver_result)\n",
    "if s.check() == sat:\n",
    "    out_value = s.model()[out]\n",
    "    print(float(out_value.numerator_as_long())/float(out_value.denominator_as_long()))"
   ]
  },
  {
   "cell_type": "code",
   "execution_count": 257,
   "metadata": {},
   "outputs": [
    {
     "data": {
      "text/plain": [
       "389530.0811259783"
      ]
     },
     "execution_count": 257,
     "metadata": {},
     "output_type": "execute_result"
    }
   ],
   "source": [
    "# confirm value of out that it was being returned properly\n",
    "out_sum = 0\n",
    "for i in range(50):\n",
    "    wl_i = eval(f's.model()[wl_{i}]')\n",
    "    out_sum+= float(wl_i.numerator_as_long())/float(wl_i.denominator_as_long())\n",
    "out_sum"
   ]
  },
  {
   "cell_type": "code",
   "execution_count": 258,
   "metadata": {},
   "outputs": [],
   "source": [
    "# convert solver counter-example result to output we can digest\n",
    "v0,v1,v2,v3,v4,v5 = s.model()[x_0],\\\n",
    "                    s.model()[x_1],\\\n",
    "                    s.model()[x_2],\\\n",
    "                    s.model()[x_3],\\\n",
    "                    s.model()[x_4],\\\n",
    "                    s.model()[x_5]\n",
    "counter_example = [\n",
    "    float(v0.numerator_as_long())/float(v0.denominator_as_long()),\n",
    "    float(v1.numerator_as_long())/float(v1.denominator_as_long()),\n",
    "    float(v2.numerator_as_long())/float(v2.denominator_as_long()),\n",
    "    float(v3.numerator_as_long())/float(v3.denominator_as_long()),\n",
    "    float(v4.numerator_as_long())/float(v4.denominator_as_long()),\n",
    "    float(v5.numerator_as_long())/float(v5.denominator_as_long())\n",
    "]\n",
    "counter_example = pd.Series(counter_example, index=X_sample.index)"
   ]
  },
  {
   "cell_type": "code",
   "execution_count": 259,
   "metadata": {},
   "outputs": [
    {
     "name": "stdout",
     "output_type": "stream",
     "text": [
      "sqft_living       3279.0\n",
      "sqft_lot         14182.0\n",
      "sqft_above        3090.0\n",
      "sqft_basement       96.0\n",
      "sqft_living15     2917.0\n",
      "sqft_lot15       10884.0\n",
      "dtype: float64\n",
      "sqft_living       3250\n",
      "sqft_lot         14342\n",
      "sqft_above        3250\n",
      "sqft_basement        0\n",
      "sqft_living15     2960\n",
      "sqft_lot15       11044\n",
      "Name: 58, dtype: int64\n"
     ]
    }
   ],
   "source": [
    "# I wanted to visually check that the results were within epsilon distance of eachother\n",
    "print(counter_example)\n",
    "print(X_sample)"
   ]
  },
  {
   "cell_type": "code",
   "execution_count": 260,
   "metadata": {},
   "outputs": [
    {
     "name": "stdout",
     "output_type": "stream",
     "text": [
      "929618.2228925077\n",
      "790771.405817428\n"
     ]
    }
   ],
   "source": [
    "# checking the prediction results, they should be outside of 100k of eachother if/since a counter example was found\n",
    "print(gbr.predict(np.array(counter_example).reshape(1,-1))[0])\n",
    "print(gbr.predict(np.array(X_sample).reshape(1,-1))[0])"
   ]
  },
  {
   "cell_type": "markdown",
   "metadata": {},
   "source": [
    "This wasn't matching the value of out from the solver so need to figure out which trees are not solving equivalently so we can check whats going wrong with them (probably a pruning issue)."
   ]
  },
  {
   "cell_type": "code",
   "execution_count": 261,
   "metadata": {},
   "outputs": [],
   "source": [
    "# I thought something was going wrong with my solver so I wanted to evaluate the result from the solver\n",
    "# with the result from the individual trees, it appears that there is no difference which surprised me when I thought something was going wrong\n",
    "# but my problem was actually that I didn't understand how the GBR was working and that it adds the result to a baseline value\n",
    "for t in range(50):\n",
    "    counter_example_value_in_gbr = 0.1*gbr.estimators_[t,0].predict(np.array(counter_example).reshape(1,-1))[0]\n",
    "    exec(f'a = wl_{t}')  # creates a variable pointing to real variable name\n",
    "    counter_example_value_in_solver = eval(str(s.model()[a]))\n",
    "    \n",
    "    if counter_example_value_in_gbr != counter_example_value_in_solver:  # if theres a discrepancy in value print the tree in question\n",
    "        print(t, counter_example_value_in_gbr, counter_example_value_in_solver)"
   ]
  },
  {
   "cell_type": "code",
   "execution_count": 262,
   "metadata": {},
   "outputs": [
    {
     "name": "stdout",
     "output_type": "stream",
     "text": [
      "[[540088.14176653]]\n",
      "[[540088.14176653]]\n"
     ]
    }
   ],
   "source": [
    "# raw predictions initializations\n",
    "# GBR basically learn residuals from a base prediction so this calculates the base prediction\n",
    "# I kind of knew about learning the residuals part but forgot about it till I dug into the source code\n",
    "# see _raw_predict_init_method at https://github.com/scikit-learn/scikit-learn/blob/0fb307bf3/sklearn/ensemble/_gb.py#L1282\n",
    "print(gbr.loss_.get_init_raw_predictions(\n",
    "                np.array(X_sample).reshape(1,-1), \n",
    "                gbr.init_).astype(np.float64))\n",
    "print(gbr.loss_.get_init_raw_predictions(\n",
    "                np.array(counter_example).reshape(1,-1), \n",
    "                gbr.init_).astype(np.float64))"
   ]
  },
  {
   "cell_type": "code",
   "execution_count": 263,
   "metadata": {},
   "outputs": [
    {
     "name": "stdout",
     "output_type": "stream",
     "text": [
      "250683.26405089835\n"
     ]
    }
   ],
   "source": [
    "# confirm value of tree - This will sum the individual tree predictions and should be the residual that gets added to the baseline\n",
    "out_sum = 0\n",
    "for t in range(50):\n",
    "    estimator = gbr.estimators_[t,0]\n",
    "    value_in_decision_tree = estimator.predict(np.array(X_sample).reshape(1,-1))[0]\n",
    "    out_sum += .1*value_in_decision_tree\n",
    "print(out_sum)"
   ]
  },
  {
   "cell_type": "markdown",
   "metadata": {},
   "source": [
    "adding this value to the baseline gives us the result that we get when we 'predict' on the whole GBR"
   ]
  },
  {
   "cell_type": "code",
   "execution_count": 250,
   "metadata": {},
   "outputs": [
    {
     "data": {
      "text/plain": [
       "[Text(837.0, 713.475, 'X[0] <= 2847.5\\nfriedman_mse = 121156048730.935\\nsamples = 21613\\nvalue = -0.0'),\n",
       " Text(418.5, 509.625, 'X[0] <= 2009.5\\nfriedman_mse = 38941851476.932\\nsamples = 17873\\nvalue = -84693.436'),\n",
       " Text(209.25, 305.775, 'X[5] <= 6023.5\\nfriedman_mse = 23869361531.291\\nsamples = 11717\\nvalue = -139676.337'),\n",
       " Text(104.625, 101.92499999999995, 'friedman_mse = 24605713367.792\\nsamples = 4768\\nvalue = -85095.663'),\n",
       " Text(313.875, 101.92499999999995, 'friedman_mse = 19917559628.451\\nsamples = 6949\\nvalue = -177126.425'),\n",
       " Text(627.75, 305.775, 'X[4] <= 2669.5\\nfriedman_mse = 50924039219.876\\nsamples = 6156\\nvalue = 19958.068'),\n",
       " Text(523.125, 101.92499999999995, 'friedman_mse = 42047976608.591\\nsamples = 5279\\nvalue = -4084.43'),\n",
       " Text(732.375, 101.92499999999995, 'friedman_mse = 79928837506.651\\nsamples = 877\\nvalue = 164679.104'),\n",
       " Text(1255.5, 509.625, 'X[0] <= 4195.0\\nfriedman_mse = 315954732866.938\\nsamples = 3740\\nvalue = 404739.512'),\n",
       " Text(1046.25, 305.775, 'X[0] <= 3406.0\\nfriedman_mse = 146610848543.426\\nsamples = 3135\\nvalue = 292153.747'),\n",
       " Text(941.625, 101.92499999999995, 'friedman_mse = 101432999426.187\\nsamples = 1966\\nvalue = 215201.147'),\n",
       " Text(1150.875, 101.92499999999995, 'friedman_mse = 195882188334.039\\nsamples = 1169\\nvalue = 421571.036'),\n",
       " Text(1464.75, 305.775, 'X[0] <= 7940.0\\nfriedman_mse = 787427178684.961\\nsamples = 605\\nvalue = 988138.478'),\n",
       " Text(1360.125, 101.92499999999995, 'friedman_mse = 585524908732.587\\nsamples = 595\\nvalue = 936053.282'),\n",
       " Text(1569.375, 101.92499999999995, 'friedman_mse = 3034966744099.877\\nsamples = 10\\nvalue = 4087207.672')]"
      ]
     },
     "execution_count": 250,
     "metadata": {},
     "output_type": "execute_result"
    },
    {
     "data": {
      "image/png": "[encoded data removed]",
      "text/plain": [
       "<Figure size 2160x1080 with 1 Axes>"
      ]
     },
     "metadata": {
      "needs_background": "light"
     },
     "output_type": "display_data"
    }
   ],
   "source": [
    "# I thought something was going wrong with the tree and wanted to see a visualization of it so I could manually check if something was going wrong\n",
    "from sklearn import tree\n",
    "import matplotlib.pyplot as plt\n",
    "\n",
    "t=1\n",
    "plt.figure(figsize=(30,15))\n",
    "tree.plot_tree(gbr.estimators_[t,0])"
   ]
  },
  {
   "cell_type": "markdown",
   "metadata": {},
   "source": [
    "### Experiment"
   ]
  },
  {
   "cell_type": "code",
   "execution_count": 284,
   "metadata": {
    "scrolled": false
   },
   "outputs": [
    {
     "name": "stdout",
     "output_type": "stream",
     "text": [
      "Testing for estimators=50, max_depth=3\n",
      "Test r2 score: 0.61\n",
      "Tested 50 cases so far\n",
      "Tested 100 cases so far\n",
      "Tested 150 cases so far\n",
      "Tested 200 cases so far\n",
      "{'sat_rate': 0.335, 'unsat_rate': 0.665, 'timeout_rate': 0.0, 'r2_score': 0.6056243087302053}\n",
      "Testing for estimators=100, max_depth=3\n",
      "Test r2 score: 0.61\n",
      "Tested 50 cases so far\n",
      "Tested 100 cases so far\n",
      "Tested 150 cases so far\n",
      "Tested 200 cases so far\n",
      "{'sat_rate': 0.37, 'unsat_rate': 0.63, 'timeout_rate': 0.0, 'r2_score': 0.6098890580686213}\n",
      "Testing for estimators=200, max_depth=3\n",
      "Test r2 score: 0.61\n",
      "Tested 50 cases so far\n",
      "Tested 100 cases so far\n",
      "Tested 150 cases so far\n",
      "Tested 200 cases so far\n",
      "{'sat_rate': 0.615, 'unsat_rate': 0.385, 'timeout_rate': 0.0, 'r2_score': 0.6101307139804514}\n",
      "Testing for estimators=300, max_depth=3\n",
      "Test r2 score: 0.61\n",
      "Tested 50 cases so far\n",
      "Tested 100 cases so far\n",
      "Tested 150 cases so far\n",
      "Tested 200 cases so far\n",
      "{'sat_rate': 0.635, 'unsat_rate': 0.365, 'timeout_rate': 0.0, 'r2_score': 0.605677316033516}\n",
      "Testing for estimators=400, max_depth=3\n",
      "Test r2 score: 0.60\n",
      "Tested 50 cases so far\n",
      "Tested 100 cases so far\n",
      "Tested 150 cases so far\n",
      "Tested 200 cases so far\n",
      "{'sat_rate': 0.665, 'unsat_rate': 0.335, 'timeout_rate': 0.0, 'r2_score': 0.6030934371070422}\n",
      "Testing for estimators=500, max_depth=3\n",
      "Test r2 score: 0.60\n",
      "Tested 50 cases so far\n",
      "Tested 100 cases so far\n",
      "Tested 150 cases so far\n",
      "Tested 200 cases so far\n",
      "{'sat_rate': 0.76, 'unsat_rate': 0.24, 'timeout_rate': 0.0, 'r2_score': 0.5988806618105248}\n",
      "Testing for estimators=50, max_depth=5\n",
      "Test r2 score: 0.61\n",
      "Tested 50 cases so far\n",
      "Tested 100 cases so far\n",
      "Tested 150 cases so far\n",
      "Tested 200 cases so far\n",
      "{'sat_rate': 0.495, 'unsat_rate': 0.505, 'timeout_rate': 0.0, 'r2_score': 0.6072750385195926}\n",
      "Testing for estimators=100, max_depth=5\n",
      "Test r2 score: 0.60\n",
      "Tested 50 cases so far\n",
      "Tested 100 cases so far\n",
      "Tested 150 cases so far\n",
      "Tested 200 cases so far\n",
      "{'sat_rate': 0.535, 'unsat_rate': 0.465, 'timeout_rate': 0.0, 'r2_score': 0.6039766924699663}\n",
      "Testing for estimators=200, max_depth=5\n",
      "Test r2 score: 0.60\n",
      "Tested 50 cases so far\n",
      "Tested 100 cases so far\n",
      "Tested 150 cases so far\n",
      "Tested 200 cases so far\n",
      "{'sat_rate': 0.8, 'unsat_rate': 0.2, 'timeout_rate': 0.0, 'r2_score': 0.6014314813589898}\n",
      "Testing for estimators=300, max_depth=5\n",
      "Test r2 score: 0.60\n",
      "Tested 50 cases so far\n",
      "Tested 100 cases so far\n",
      "Tested 150 cases so far\n",
      "Tested 200 cases so far\n",
      "{'sat_rate': 0.91, 'unsat_rate': 0.09, 'timeout_rate': 0.0, 'r2_score': 0.5951044760622024}\n",
      "Testing for estimators=400, max_depth=5\n",
      "Test r2 score: 0.59\n",
      "Tested 50 cases so far\n",
      "Tested 100 cases so far\n",
      "Tested 150 cases so far\n",
      "Tested 200 cases so far\n",
      "{'sat_rate': 0.955, 'unsat_rate': 0.045, 'timeout_rate': 0.0, 'r2_score': 0.5892173787996238}\n",
      "Testing for estimators=500, max_depth=5\n",
      "Test r2 score: 0.58\n",
      "Tested 50 cases so far\n",
      "Tested 100 cases so far\n",
      "Tested 150 cases so far\n",
      "Tested 200 cases so far\n",
      "{'sat_rate': 0.98, 'unsat_rate': 0.02, 'timeout_rate': 0.0, 'r2_score': 0.5849291805129303}\n",
      "Testing for estimators=50, max_depth=8\n",
      "Test r2 score: 0.59\n",
      "Tested 50 cases so far\n",
      "Tested 100 cases so far\n",
      "Tested 150 cases so far\n",
      "Tested 200 cases so far\n",
      "{'sat_rate': 0.675, 'unsat_rate': 0.325, 'timeout_rate': 0.0, 'r2_score': 0.5924779068528041}\n",
      "Testing for estimators=100, max_depth=8\n",
      "Test r2 score: 0.59\n",
      "Tested 50 cases so far\n",
      "Tested 100 cases so far\n",
      "Tested 150 cases so far\n",
      "Tested 200 cases so far\n",
      "{'sat_rate': 0.835, 'unsat_rate': 0.165, 'timeout_rate': 0.0, 'r2_score': 0.594055910017455}\n",
      "Testing for estimators=200, max_depth=8\n",
      "Test r2 score: 0.59\n",
      "Tested 50 cases so far\n",
      "Tested 100 cases so far\n",
      "Tested 150 cases so far\n",
      "Tested 200 cases so far\n",
      "{'sat_rate': 0.985, 'unsat_rate': 0.015, 'timeout_rate': 0.0, 'r2_score': 0.5887316594894619}\n",
      "Testing for estimators=300, max_depth=8\n",
      "Test r2 score: 0.58\n",
      "Tested 50 cases so far\n",
      "Tested 100 cases so far\n",
      "Tested 150 cases so far\n",
      "Tested 200 cases so far\n",
      "{'sat_rate': 1.0, 'unsat_rate': 0.0, 'timeout_rate': 0.0, 'r2_score': 0.5822749697779299}\n",
      "Testing for estimators=400, max_depth=8\n",
      "Test r2 score: 0.58\n",
      "Tested 50 cases so far\n",
      "Tested 100 cases so far\n",
      "Tested 150 cases so far\n",
      "Tested 200 cases so far\n",
      "{'sat_rate': 1.0, 'unsat_rate': 0.0, 'timeout_rate': 0.0, 'r2_score': 0.5815853142750569}\n",
      "Testing for estimators=500, max_depth=8\n",
      "Test r2 score: 0.58\n",
      "Tested 50 cases so far\n",
      "Tested 100 cases so far\n",
      "Tested 150 cases so far\n",
      "Tested 200 cases so far\n",
      "{'sat_rate': 1.0, 'unsat_rate': 0.0, 'timeout_rate': 0.0, 'r2_score': 0.5752898416163191}\n",
      "Testing for estimators=50, max_depth=10\n",
      "Test r2 score: 0.57\n",
      "Tested 50 cases so far\n",
      "Tested 100 cases so far\n",
      "Tested 150 cases so far\n",
      "Tested 200 cases so far\n",
      "{'sat_rate': 0.87, 'unsat_rate': 0.13, 'timeout_rate': 0.0, 'r2_score': 0.5723114770641927}\n",
      "Testing for estimators=100, max_depth=10\n",
      "Test r2 score: 0.57\n",
      "Tested 50 cases so far\n",
      "Tested 100 cases so far\n",
      "Tested 150 cases so far\n",
      "Tested 200 cases so far\n",
      "{'sat_rate': 0.985, 'unsat_rate': 0.015, 'timeout_rate': 0.0, 'r2_score': 0.5705260644694663}\n",
      "Testing for estimators=200, max_depth=10\n",
      "Test r2 score: 0.57\n",
      "Tested 50 cases so far\n",
      "Tested 100 cases so far\n",
      "Tested 150 cases so far\n",
      "Tested 200 cases so far\n",
      "{'sat_rate': 1.0, 'unsat_rate': 0.0, 'timeout_rate': 0.0, 'r2_score': 0.565316827503838}\n",
      "Testing for estimators=300, max_depth=10\n",
      "Test r2 score: 0.56\n",
      "Tested 50 cases so far\n",
      "Tested 100 cases so far\n",
      "Tested 150 cases so far\n",
      "Tested 200 cases so far\n",
      "{'sat_rate': 0.99, 'unsat_rate': 0.01, 'timeout_rate': 0.0, 'r2_score': 0.5600788229159814}\n",
      "Testing for estimators=400, max_depth=10\n",
      "Test r2 score: 0.56\n",
      "Tested 50 cases so far\n",
      "Tested 100 cases so far\n",
      "Tested 150 cases so far\n",
      "Tested 200 cases so far\n",
      "{'sat_rate': 1.0, 'unsat_rate': 0.0, 'timeout_rate': 0.0, 'r2_score': 0.5614036268431255}\n",
      "Testing for estimators=500, max_depth=10\n",
      "Test r2 score: 0.56\n",
      "Tested 50 cases so far\n",
      "Tested 100 cases so far\n",
      "Tested 150 cases so far\n",
      "Tested 200 cases so far\n",
      "{'sat_rate': 1.0, 'unsat_rate': 0.0, 'timeout_rate': 0.0, 'r2_score': 0.5598671109062926}\n"
     ]
    }
   ],
   "source": [
    "import pickle\n",
    "from sklearn.model_selection import train_test_split\n",
    "from sklearn.metrics import r2_score\n",
    "\n",
    "np.random.seed(0)\n",
    "\n",
    "X = housing_data[sqft_cols]\n",
    "y = housing_data['price']\n",
    "\n",
    "X_train, X_test, y_train, y_test = train_test_split(X, y, test_size=0.2, random_state=0)\n",
    "\n",
    "n = 1000*60*10  # 10 minutes\n",
    "set_option(timeout=n)  # n = milliseconds from https://github.com/Z3Prover/z3/issues/1386\n",
    "\n",
    "tree_depth_options = [3,5,8,10]\n",
    "estimator_options = [50, 100, 200, 300, 400, 500]\n",
    "\n",
    "for max_depth in tree_depth_options:\n",
    "    for estimators in estimator_options:\n",
    "        print(f'Testing for estimators={estimators}, max_depth={max_depth}')\n",
    "\n",
    "        gbr = GradientBoostingRegressor(\n",
    "            max_depth=max_depth,\n",
    "            learning_rate=0.1,\n",
    "            n_estimators=estimators  # number of trees\n",
    "        )\n",
    "\n",
    "        gbr.fit(X_train, y_train)\n",
    "        \n",
    "        y_pred = gbr.predict(X_test)\n",
    "        this_score = r2_score(y_test, y_pred)\n",
    "        print(f\"Test r2 score: {this_score:.02f}\")\n",
    "\n",
    "        sat_count = 0\n",
    "        timeout_count = 0\n",
    "        number_sampled = 200\n",
    "\n",
    "        sampled_indexes = np.random.randint(low=0, high=len(X_test), size=number_sampled)\n",
    "\n",
    "        verbose = False\n",
    "        for i, idx in enumerate(sampled_indexes):\n",
    "            if verbose:\n",
    "                print(f'testing sample {i}, index: {idx}')\n",
    "            X_sample = X_test.iloc[idx]\n",
    "\n",
    "            # I wanted to confirm that every value starts with the same initial prediction and that is true\n",
    "        #     print(gbr.loss_.get_init_raw_predictions(\n",
    "        #                 np.array(X_sample).reshape(1,-1), \n",
    "        #                 gbr.init_).astype(np.float64))  \n",
    "\n",
    "            model_expression, all_reals = get_gamma_R(gbr, X_input=X_sample)\n",
    "\n",
    "            # define all real values\n",
    "            exec(\",\".join(list(all_reals))+\" = Reals('\"+\" \".join(list(all_reals))+\"')\")\n",
    "\n",
    "\n",
    "            model_expression = re.sub(\"\\s+\", # one or more repetition of whitespace\n",
    "                   '', # replace with empty string (->remove)\n",
    "                   model_expression\n",
    "                  )\n",
    "            gamma_ = eval(model_expression)\n",
    "\n",
    "            s = Solver()\n",
    "            s.add(gamma_)\n",
    "            solver_result = s.check()\n",
    "            if verbose:\n",
    "                print(solver_result)\n",
    "            if s.check() == sat:\n",
    "                sat_count+=1\n",
    "                out_value = s.model()[out]\n",
    "                if verbose: \n",
    "                    print(float(out_value.numerator_as_long())/float(out_value.denominator_as_long()))\n",
    "            if s.check() == unknown:\n",
    "                timeout_count+=1\n",
    "                if verbose:\n",
    "                    print('timeout found')\n",
    "\n",
    "            if ((i+1)%50) == 0:\n",
    "                print(f'Tested {i+1} cases so far')\n",
    "\n",
    "        results_dict = {\n",
    "            'sat_rate':sat_count/number_sampled,\n",
    "            'unsat_rate': (number_sampled-sat_count-timeout_count)/number_sampled,\n",
    "            'timeout_rate': timeout_count/number_sampled,\n",
    "            'r2_score': this_score\n",
    "        }\n",
    "\n",
    "        print(results_dict)\n",
    "        \n",
    "        with open(f'ReplicationResults/results_estimators={estimators}_depth={max_depth}.pkl', 'wb+') as file:\n",
    "            pickle.dump(results_dict, file)"
   ]
  },
  {
   "cell_type": "code",
   "execution_count": 285,
   "metadata": {},
   "outputs": [],
   "source": [
    "with open(f'ReplicationResults/results_estimators={estimators}_depth={max_depth}.pkl', 'rb+') as file:\n",
    "    results_out = pickle.load(file)"
   ]
  },
  {
   "cell_type": "code",
   "execution_count": 286,
   "metadata": {},
   "outputs": [
    {
     "data": {
      "text/plain": [
       "{'sat_rate': 1.0,\n",
       " 'unsat_rate': 0.0,\n",
       " 'timeout_rate': 0.0,\n",
       " 'r2_score': 0.5598671109062926}"
      ]
     },
     "execution_count": 286,
     "metadata": {},
     "output_type": "execute_result"
    }
   ],
   "source": [
    "results_out"
   ]
  },
  {
   "cell_type": "markdown",
   "metadata": {},
   "source": [
    "TO DO:\n",
    "\n",
    "- ~pickle results to another folder~\n",
    "- ~loop over different tree sizes and depths, thats gonna run for a while, not sure what a timeout looks like so we need to test a bit on that and track those, the only happen at tree sizes 500+~\n",
    "- ~make sure that we train properly (this isn't described afaik in the paper) make sure that we only test on 200 randomly sampled data cases~"
   ]
  },
  {
   "cell_type": "code",
   "execution_count": null,
   "metadata": {},
   "outputs": [],
   "source": []
  },
  {
   "cell_type": "code",
   "execution_count": null,
   "metadata": {},
   "outputs": [],
   "source": []
  },
  {
   "cell_type": "code",
   "execution_count": null,
   "metadata": {},
   "outputs": [],
   "source": []
  },
  {
   "cell_type": "code",
   "execution_count": null,
   "metadata": {},
   "outputs": [],
   "source": []
  },
  {
   "cell_type": "code",
   "execution_count": null,
   "metadata": {},
   "outputs": [],
   "source": []
  },
  {
   "cell_type": "code",
   "execution_count": null,
   "metadata": {},
   "outputs": [],
   "source": []
  },
  {
   "cell_type": "code",
   "execution_count": null,
   "metadata": {},
   "outputs": [],
   "source": []
  },
  {
   "cell_type": "code",
   "execution_count": null,
   "metadata": {},
   "outputs": [],
   "source": []
  },
  {
   "cell_type": "code",
   "execution_count": null,
   "metadata": {},
   "outputs": [],
   "source": []
  },
  {
   "cell_type": "code",
   "execution_count": null,
   "metadata": {},
   "outputs": [],
   "source": []
  },
  {
   "cell_type": "code",
   "execution_count": null,
   "metadata": {},
   "outputs": [],
   "source": []
  },
  {
   "cell_type": "code",
   "execution_count": null,
   "metadata": {},
   "outputs": [],
   "source": []
  },
  {
   "cell_type": "code",
   "execution_count": 107,
   "metadata": {},
   "outputs": [],
   "source": [
    "# print(X_sample)\n",
    "# print(tree.feature)\n",
    "# print(tree.threshold)"
   ]
  },
  {
   "cell_type": "code",
   "execution_count": 14,
   "metadata": {},
   "outputs": [
    {
     "data": {
      "text/plain": [
       "-84004.33994787265"
      ]
     },
     "execution_count": 14,
     "metadata": {},
     "output_type": "execute_result"
    }
   ],
   "source": [
    "tree.value[4][0,0]"
   ]
  },
  {
   "cell_type": "code",
   "execution_count": 15,
   "metadata": {},
   "outputs": [
    {
     "data": {
      "text/plain": [
       "array([ 1,  2,  3, -1, -1,  6, -1, -1,  9, 10, -1, -1, 13, -1, -1],\n",
       "      dtype=int64)"
      ]
     },
     "execution_count": 15,
     "metadata": {},
     "output_type": "execute_result"
    }
   ],
   "source": [
    "tree.children_left\n"
   ]
  },
  {
   "cell_type": "code",
   "execution_count": 16,
   "metadata": {},
   "outputs": [
    {
     "data": {
      "text/plain": [
       "array([ 8,  5,  4, -1, -1,  7, -1, -1, 12, 11, -1, -1, 14, -1, -1],\n",
       "      dtype=int64)"
      ]
     },
     "execution_count": 16,
     "metadata": {},
     "output_type": "execute_result"
    }
   ],
   "source": [
    "tree.children_right\n"
   ]
  },
  {
   "cell_type": "code",
   "execution_count": 17,
   "metadata": {},
   "outputs": [
    {
     "data": {
      "text/plain": [
       "<sklearn.tree._tree.Tree at 0x20e002c59d0>"
      ]
     },
     "execution_count": 17,
     "metadata": {},
     "output_type": "execute_result"
    }
   ],
   "source": [
    "tree"
   ]
  },
  {
   "cell_type": "code",
   "execution_count": 53,
   "metadata": {},
   "outputs": [
    {
     "data": {
      "text/plain": [
       "9"
      ]
     },
     "execution_count": 53,
     "metadata": {},
     "output_type": "execute_result"
    }
   ],
   "source": [
    "import re\n",
    "exec('res='+re.sub('\\s', '','4+\\n\\t\\t5'))\n",
    "res"
   ]
  },
  {
   "cell_type": "code",
   "execution_count": null,
   "metadata": {},
   "outputs": [],
   "source": []
  }
 ],
 "metadata": {
  "kernelspec": {
   "display_name": "Python 3",
   "language": "python",
   "name": "python3"
  },
  "language_info": {
   "codemirror_mode": {
    "name": "ipython",
    "version": 3
   },
   "file_extension": ".py",
   "mimetype": "text/x-python",
   "name": "python",
   "nbconvert_exporter": "python",
   "pygments_lexer": "ipython3",
   "version": "3.8.3"
  }
 },
 "nbformat": 4,
 "nbformat_minor": 4
}
